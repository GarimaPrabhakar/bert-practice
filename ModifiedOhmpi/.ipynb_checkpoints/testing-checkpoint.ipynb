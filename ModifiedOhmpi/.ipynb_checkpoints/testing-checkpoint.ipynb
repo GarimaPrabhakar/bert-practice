{
 "cells": [
  {
   "cell_type": "code",
   "execution_count": 2,
   "id": "58c12292-7442-4062-9abb-f98b50f45551",
   "metadata": {},
   "outputs": [],
   "source": [
    "import numpy as np\n",
    "import matplotlib.pyplot as plt"
   ]
  },
  {
   "cell_type": "code",
   "execution_count": 3,
   "id": "7ab2b9e4-9c57-4629-bd9c-aaa2bc8c7ae6",
   "metadata": {},
   "outputs": [
    {
     "name": "stdout",
     "output_type": "stream",
     "text": [
      "STARTING DIPOLE DIPOLE SCHEME FOR 1891 ELECTRODE COMBINATIONS\n",
      "Estimated time for one cycle:  63  minutes.\n"
     ]
    }
   ],
   "source": [
    "def find(string, sub, n):\n",
    "    index = 0\n",
    "    newstr = string\n",
    "    for i in range(n):\n",
    "        index = newstr.index(sub, index+1)\n",
    "        newstr = newstr[index+1:]\n",
    "        # print(newstr)\n",
    "        # print(\"ahem\")\n",
    "        # print(index)\n",
    "    \n",
    "    return index\n",
    "\n",
    "activation_time = 1\n",
    "\n",
    "with open('scheme3d.shm') as f:\n",
    "    lines = f.readlines()\n",
    "\n",
    "start = lines.index('# a b m n err i ip iperr k r rhoa u valid \\n')\n",
    "scheme = lines[start:][1:-1]\n",
    "\n",
    "elec_combos = np.array([scheme[i].split() for i in range(len(scheme))]).astype(float)\n",
    "\n",
    "a = np.transpose(elec_combos)[0]\n",
    "b = np.transpose(elec_combos)[1]\n",
    "m = np.transpose(elec_combos)[2]\n",
    "n = np.transpose(elec_combos)[3]\n",
    "\n",
    "print(\"STARTING DIPOLE DIPOLE SCHEME FOR\", len(a), \"ELECTRODE COMBINATIONS\")\n",
    "print(\"Estimated time for one cycle: \", round(activation_time*2*len(a)/60), \" minutes.\")"
   ]
  },
  {
   "cell_type": "code",
   "execution_count": 4,
   "id": "ce5386d7-4270-4a12-8baf-3510739441ae",
   "metadata": {},
   "outputs": [
    {
     "name": "stdout",
     "output_type": "stream",
     "text": [
      "1\t2\t3\t4\t0.00000000000000e+00\t0.00000000000000e+00\t0.00000000000000e+00\t0.00000000000000e+00\t0.00000000000000e+00\t0.00000000000000e+00\t0.00000000000000e+00\t0.00000000000000e+00\t1\n",
      "\n"
     ]
    },
    {
     "data": {
      "text/plain": [
       "'2\\t3\\t4\\t0.00000000000000e+00\\t0.00000000000000e+00\\t0.00000000000000e+00\\t0.00000000000000e+00\\t0.00000000000000e+00\\t0.00000000000000e+00\\t0.00000000000000e+00\\t0.00000000000000e+00\\t1\\n'"
      ]
     },
     "execution_count": 4,
     "metadata": {},
     "output_type": "execute_result"
    }
   ],
   "source": [
    "start = scheme[1].index('\\t', 1)\n",
    "end = scheme[1].index('\\t', 1)\n",
    "print(scheme[0])\n",
    "scheme[0][0:scheme[0].index('\\t', 1)]\n",
    "scheme[0][scheme[0].index('\\t', 1)]\n",
    "scheme[0].index('\\t')\n",
    "scheme[0][scheme[0].index('\\t')+1:]"
   ]
  },
  {
   "cell_type": "code",
   "execution_count": 5,
   "id": "5c128962-fe97-4caf-a2ab-ad82cc856746",
   "metadata": {},
   "outputs": [],
   "source": [
    "b = [(scheme[0][scheme[0].index('\\t', 1)+2:scheme[0].index('\\t', 2)]) for i in range(1, len(scheme))]"
   ]
  },
  {
   "cell_type": "code",
   "execution_count": 6,
   "id": "564da549-ab1b-4f92-b0c2-715e6a5417e1",
   "metadata": {},
   "outputs": [
    {
     "name": "stdout",
     "output_type": "stream",
     "text": [
      "32\n"
     ]
    }
   ],
   "source": [
    "# print(scheme[0])\n",
    "ind = find(scheme[30], '\\t', 1)\n",
    "ind2 = find(scheme[30], '\\t', 2)\n",
    "print(scheme[30][ind+1:ind2])"
   ]
  },
  {
   "cell_type": "code",
   "execution_count": null,
   "id": "015e8983-4923-48ab-a89a-e3e135102c57",
   "metadata": {},
   "outputs": [],
   "source": []
  },
  {
   "cell_type": "code",
   "execution_count": 7,
   "id": "7f1b9a20-faeb-45fb-b8a8-1b084de2bcc9",
   "metadata": {},
   "outputs": [],
   "source": [
    "# a = [int(scheme[i][0:scheme[i].index('\\t')]) for i in range(len(scheme))]\n",
    " \n",
    "# #    find(scheme[i], '\\t', 1)\n",
    "\n",
    "# b = [(scheme[i][find(scheme[30], '\\t', 0)+1:find(scheme[30], '\\t', 1)]) for i in range(1, len(scheme))]\n",
    "# m = [int(scheme[i][find(scheme[30], '\\t', 1):find(scheme[30], '\\t', 2)]) for i in range(1, len(scheme))]\n",
    "# n = [int(scheme[i][find(scheme[30], '\\t', 2):find(scheme[30], '\\t', 3)]) for i in range(1, len(scheme))]\n"
   ]
  },
  {
   "cell_type": "code",
   "execution_count": 8,
   "id": "18c9b112-4946-4d31-93ee-d8f5235fa733",
   "metadata": {},
   "outputs": [
    {
     "name": "stdout",
     "output_type": "stream",
     "text": [
      "STARTING DIPOLE DIPOLE SCHEME FOR 1891 ELECTRODE COMBINATIONS\n",
      "Time:  Thu Nov 17 23:45:04 2022\n",
      "Estimated time for one cycle:  63  minutes.\n",
      "Repeating cycle every  65  minutes.\n",
      "FINISHED CYCLE. SLEEPING FOR  60 MINUTES.\n"
     ]
    }
   ],
   "source": [
    "import time\n",
    "repeat = 65\n",
    "duration = 5*60\n",
    "print(\"STARTING DIPOLE DIPOLE SCHEME FOR\", len(a), \"ELECTRODE COMBINATIONS\")\n",
    "print(\"Time: \", time.ctime(time.time()))\n",
    "print(\"Estimated time for one cycle: \", round(activation_time*2*len(a)/60), \" minutes.\")\n",
    "print(\"Repeating cycle every \", repeat, \" minutes.\")\n",
    "print(\"FINISHED CYCLE. SLEEPING FOR \", round(repeat - duration/60), \"MINUTES.\")"
   ]
  },
  {
   "cell_type": "code",
   "execution_count": 9,
   "id": "f999a682-893f-4f09-be61-1ca87c66b604",
   "metadata": {},
   "outputs": [],
   "source": [
    "def resistivity_rule(x, y, z, t, rule=\"hom\"):\n",
    "    if rule==\"hom\":\n",
    "        return np.zeros(x.shape)+100\n",
    "    else:\n",
    "        print(\"wrong rule choice\")"
   ]
  },
  {
   "cell_type": "code",
   "execution_count": 10,
   "id": "64fba659-00e8-43cf-a50e-9f00c6d4aee1",
   "metadata": {},
   "outputs": [
    {
     "data": {
      "image/png": "[encoded data removed]",
      "text/plain": [
       "<Figure size 640x480 with 1 Axes>"
      ]
     },
     "metadata": {},
     "output_type": "display_data"
    }
   ],
   "source": [
    "#TESTING\n",
    "# create electrode scheme\n",
    "x = np.linspace(-3.5, 3.5, 8)\n",
    "y = np.linspace(-3.5, 3.5, 8)\n",
    "\n",
    "xx, yy = np.meshgrid(x, y)\n",
    "\n",
    "plt.scatter(xx, yy)\n",
    "\n",
    "elec_nums = np.linspace(1, 64, 64).reshape(xx.shape)"
   ]
  },
  {
   "cell_type": "code",
   "execution_count": 75,
   "id": "63d45017-ea60-41eb-9c70-20f6da8c2247",
   "metadata": {},
   "outputs": [
    {
     "ename": "ArgumentError",
     "evalue": "Python argument types in\n    DataContainer.createSensor(DataContainerERT, numpy.ndarray)\ndid not match C++ signature:\n    createSensor(GIMLI::DataContainer {lvalue}, GIMLI::Pos pos, double tolerance=0.001)",
     "output_type": "error",
     "traceback": [
      "\u001b[0;31m---------------------------------------------------------------------------\u001b[0m",
      "\u001b[0;31mArgumentError\u001b[0m                             Traceback (most recent call last)",
      "Input \u001b[0;32mIn [75]\u001b[0m, in \u001b[0;36m<cell line: 7>\u001b[0;34m()\u001b[0m\n\u001b[1;32m      3\u001b[0m \u001b[38;5;28;01mimport\u001b[39;00m \u001b[38;5;21;01mpygimli\u001b[39;00m \u001b[38;5;28;01mas\u001b[39;00m \u001b[38;5;21;01mpg\u001b[39;00m\n\u001b[1;32m      4\u001b[0m scheme \u001b[38;5;241m=\u001b[39m ert\u001b[38;5;241m.\u001b[39mcreateData(elecs\u001b[38;5;241m=\u001b[39mnp\u001b[38;5;241m.\u001b[39mlinspace(start\u001b[38;5;241m=\u001b[39m\u001b[38;5;241m-\u001b[39m\u001b[38;5;241m3.5\u001b[39m, stop\u001b[38;5;241m=\u001b[39m\u001b[38;5;241m3.5\u001b[39m, num\u001b[38;5;241m=\u001b[39m\u001b[38;5;241m8\u001b[39m),\n\u001b[1;32m      5\u001b[0m                            schemeName\u001b[38;5;241m=\u001b[39m\u001b[38;5;124m'\u001b[39m\u001b[38;5;124mdd\u001b[39m\u001b[38;5;124m'\u001b[39m)\n\u001b[0;32m----> 7\u001b[0m scheme \u001b[38;5;241m=\u001b[39m \u001b[43mert\u001b[49m\u001b[38;5;241;43m.\u001b[39;49m\u001b[43mcreateData\u001b[49m\u001b[43m(\u001b[49m\u001b[43melecs\u001b[49m\u001b[38;5;241;43m=\u001b[39;49m\u001b[43mxx\u001b[49m\u001b[43m,\u001b[49m\n\u001b[1;32m      8\u001b[0m \u001b[43m                           \u001b[49m\u001b[43mschemeName\u001b[49m\u001b[38;5;241;43m=\u001b[39;49m\u001b[38;5;124;43m'\u001b[39;49m\u001b[38;5;124;43mdd\u001b[39;49m\u001b[38;5;124;43m'\u001b[39;49m\u001b[43m)\u001b[49m\n\u001b[1;32m      9\u001b[0m \u001b[38;5;28mprint\u001b[39m(elec_nums)\n\u001b[1;32m     11\u001b[0m ainit \u001b[38;5;241m=\u001b[39m scheme[\u001b[38;5;124m'\u001b[39m\u001b[38;5;124ma\u001b[39m\u001b[38;5;124m'\u001b[39m]\n",
      "File \u001b[0;32m~/miniconda3/lib/python3.9/site-packages/pygimli/physics/ert/ertScheme.py:91\u001b[0m, in \u001b[0;36mcreateData\u001b[0;34m(elecs, schemeName, **kwargs)\u001b[0m\n\u001b[1;32m     89\u001b[0m         data\u001b[38;5;241m.\u001b[39msetSensors(elecs)\n\u001b[1;32m     90\u001b[0m     \u001b[38;5;28;01melse\u001b[39;00m:\n\u001b[0;32m---> 91\u001b[0m         data \u001b[38;5;241m=\u001b[39m \u001b[43mscheme\u001b[49m\u001b[38;5;241;43m.\u001b[39;49m\u001b[43mcreate\u001b[49m\u001b[43m(\u001b[49m\u001b[43msensorList\u001b[49m\u001b[38;5;241;43m=\u001b[39;49m\u001b[43melecs\u001b[49m\u001b[43m,\u001b[49m\u001b[43m \u001b[49m\u001b[38;5;241;43m*\u001b[39;49m\u001b[38;5;241;43m*\u001b[39;49m\u001b[43mkwargs\u001b[49m\u001b[43m)\u001b[49m\n\u001b[1;32m     92\u001b[0m \u001b[38;5;28;01melse\u001b[39;00m:\n\u001b[1;32m     93\u001b[0m     \u001b[38;5;28mprint\u001b[39m(elecs)\n",
      "File \u001b[0;32m~/miniconda3/lib/python3.9/site-packages/pygimli/physics/ert/ertScheme.py:270\u001b[0m, in \u001b[0;36mDataSchemeBase.create\u001b[0;34m(self, nElectrodes, electrodeSpacing, sensorList, **kwargs)\u001b[0m\n\u001b[1;32m    266\u001b[0m \u001b[38;5;28;01mdef\u001b[39;00m \u001b[38;5;21mcreate\u001b[39m(\u001b[38;5;28mself\u001b[39m, nElectrodes\u001b[38;5;241m=\u001b[39m\u001b[38;5;241m24\u001b[39m, electrodeSpacing\u001b[38;5;241m=\u001b[39m\u001b[38;5;241m1\u001b[39m, sensorList\u001b[38;5;241m=\u001b[39m\u001b[38;5;28;01mNone\u001b[39;00m,\n\u001b[1;32m    267\u001b[0m            \u001b[38;5;241m*\u001b[39m\u001b[38;5;241m*\u001b[39mkwargs):\n\u001b[1;32m    268\u001b[0m     \u001b[38;5;124;03m\"\"\"\u001b[39;00m\n\u001b[1;32m    269\u001b[0m \u001b[38;5;124;03m    \"\"\"\u001b[39;00m\n\u001b[0;32m--> 270\u001b[0m     \u001b[38;5;28;43mself\u001b[39;49m\u001b[38;5;241;43m.\u001b[39;49m\u001b[43mcreateElectrodes\u001b[49m\u001b[43m(\u001b[49m\u001b[43mnElectrodes\u001b[49m\u001b[43m,\u001b[49m\u001b[43m \u001b[49m\u001b[43melectrodeSpacing\u001b[49m\u001b[43m,\u001b[49m\u001b[43m \u001b[49m\u001b[43msensorList\u001b[49m\u001b[43m)\u001b[49m\n\u001b[1;32m    271\u001b[0m     \u001b[38;5;28mself\u001b[39m\u001b[38;5;241m.\u001b[39mcreateData(\u001b[38;5;241m*\u001b[39m\u001b[38;5;241m*\u001b[39mkwargs)\n\u001b[1;32m    273\u001b[0m     \u001b[38;5;28;01mif\u001b[39;00m \u001b[38;5;28mself\u001b[39m\u001b[38;5;241m.\u001b[39maddInverse_:\n",
      "File \u001b[0;32m~/miniconda3/lib/python3.9/site-packages/pygimli/physics/ert/ertScheme.py:296\u001b[0m, in \u001b[0;36mDataSchemeBase.createElectrodes\u001b[0;34m(self, nElectrodes, electrodeSpacing, sensorList)\u001b[0m\n\u001b[1;32m    294\u001b[0m             \u001b[38;5;28mself\u001b[39m\u001b[38;5;241m.\u001b[39mdata_\u001b[38;5;241m.\u001b[39mcreateSensor((p, \u001b[38;5;241m0.\u001b[39m))\n\u001b[1;32m    295\u001b[0m         \u001b[38;5;28;01melse\u001b[39;00m:\n\u001b[0;32m--> 296\u001b[0m             \u001b[38;5;28;43mself\u001b[39;49m\u001b[38;5;241;43m.\u001b[39;49m\u001b[43mdata_\u001b[49m\u001b[38;5;241;43m.\u001b[39;49m\u001b[43mcreateSensor\u001b[49m\u001b[43m(\u001b[49m\u001b[43mp\u001b[49m\u001b[43m)\u001b[49m\n\u001b[1;32m    297\u001b[0m \u001b[38;5;28;01melse\u001b[39;00m:\n\u001b[1;32m    298\u001b[0m     \u001b[38;5;28;01mfor\u001b[39;00m i \u001b[38;5;129;01min\u001b[39;00m \u001b[38;5;28mrange\u001b[39m(nElectrodes):\n",
      "\u001b[0;31mArgumentError\u001b[0m: Python argument types in\n    DataContainer.createSensor(DataContainerERT, numpy.ndarray)\ndid not match C++ signature:\n    createSensor(GIMLI::DataContainer {lvalue}, GIMLI::Pos pos, double tolerance=0.001)"
     ]
    }
   ],
   "source": [
    "#create a dipole-dipole scheme\n",
    "from pygimli.physics import ert\n",
    "import pygimli as pg\n",
    "scheme = ert.createData(elecs=np.linspace(start=-3.5, stop=3.5, num=8),\n",
    "                           schemeName='dd')\n",
    "\n",
    "scheme = ert.createData(elecs=xx,\n",
    "                           schemeName='dd')\n",
    "print(elec_nums)\n",
    "\n",
    "ainit = scheme['a']\n",
    "binit = scheme['b']\n",
    "minit = scheme['m']\n",
    "ninit = scheme['n']\n",
    "check = np.transpose(np.array((ainit, binit, minit, ninit)))\n",
    "\n",
    "print(len(ainit))\n",
    "\n",
    "for st in np.transpose(elec_nums)[0]:\n",
    "    [scheme.addFourPointData((check+st)[i]) for i in range(len(check))]\n",
    "\n",
    "for st in elec_nums[0]:\n",
    "    [scheme.addFourPointData((check*8+st)[i]) for i in range(len(check))]\n",
    "\n",
    "\n",
    "#print(check*8+1)\n",
    "# [scheme.addFourPointData(check[i]) for i in range(len(check))]\n",
    "\n",
    "print(scheme)\n",
    "scheme.setSensorPositions(pg.RVector(0,0,0))\n",
    "scheme.save(\"test.txt\")"
   ]
  },
  {
   "cell_type": "code",
   "execution_count": null,
   "id": "12d0c531-09f0-4419-bfd4-44b84ccfaaa2",
   "metadata": {},
   "outputs": [],
   "source": []
  },
  {
   "cell_type": "code",
   "execution_count": 42,
   "id": "d456fcad-b4e1-422c-8d4c-a14ac69e7735",
   "metadata": {},
   "outputs": [
    {
     "data": {
      "text/plain": [
       "['__call__',\n",
       " '__class__',\n",
       " '__delattr__',\n",
       " '__dict__',\n",
       " '__dir__',\n",
       " '__doc__',\n",
       " '__eq__',\n",
       " '__format__',\n",
       " '__ge__',\n",
       " '__getattribute__',\n",
       " '__getitem__',\n",
       " '__gt__',\n",
       " '__hash__',\n",
       " '__init__',\n",
       " '__init_subclass__',\n",
       " '__instance_size__',\n",
       " '__le__',\n",
       " '__lt__',\n",
       " '__module__',\n",
       " '__ne__',\n",
       " '__new__',\n",
       " '__reduce__',\n",
       " '__reduce_ex__',\n",
       " '__repr__',\n",
       " '__setattr__',\n",
       " '__setitem__',\n",
       " '__sizeof__',\n",
       " '__str__',\n",
       " '__subclasshook__',\n",
       " '__weakref__',\n",
       " 'add',\n",
       " 'addAdditionalPoint',\n",
       " 'addFourPointData',\n",
       " 'additionalPoints',\n",
       " 'allNonZero',\n",
       " 'assign',\n",
       " 'averageDuplicateData',\n",
       " 'checkDataValidity',\n",
       " 'checkDataValidityLocal',\n",
       " 'clear',\n",
       " 'createFourPointData',\n",
       " 'createSensor',\n",
       " 'currentPattern',\n",
       " 'currentPatternToElectrode',\n",
       " 'dataDescription',\n",
       " 'dataIndex',\n",
       " 'dataMap',\n",
       " 'electrodeToCurrentPattern',\n",
       " 'exists',\n",
       " 'findSensorIndex',\n",
       " 'fitFillSize',\n",
       " 'formatStringSensors',\n",
       " 'get',\n",
       " 'hash',\n",
       " 'haveData',\n",
       " 'haveTranslationForAlias',\n",
       " 'id',\n",
       " 'init',\n",
       " 'initDefaults',\n",
       " 'initTokenTranslator',\n",
       " 'inputFormatString',\n",
       " 'isSensorIndex',\n",
       " 'load',\n",
       " 'markInvalid',\n",
       " 'markInvalidSensorIndices',\n",
       " 'markValid',\n",
       " 'ref',\n",
       " 'registerSensorIndex',\n",
       " 'remove',\n",
       " 'removeInvalid',\n",
       " 'removeSensorIdx',\n",
       " 'removeUnusedSensors',\n",
       " 'resize',\n",
       " 'save',\n",
       " 'scale',\n",
       " 'sensor',\n",
       " 'sensorCount',\n",
       " 'sensorIndexOnFileFromOne',\n",
       " 'sensorPosition',\n",
       " 'sensorPositions',\n",
       " 'sensors',\n",
       " 'set',\n",
       " 'setAdditionalPoint',\n",
       " 'setAdditionalPoints',\n",
       " 'setDataDescription',\n",
       " 'setInputFormatString',\n",
       " 'setSensor',\n",
       " 'setSensorIndexOnFileFromOne',\n",
       " 'setSensorPosition',\n",
       " 'setSensorPositions',\n",
       " 'setSensors',\n",
       " 'showInfos',\n",
       " 'size',\n",
       " 'sortSensorsIndex',\n",
       " 'sortSensorsX',\n",
       " 'tokenList',\n",
       " 'tokenTranslator',\n",
       " 'translate',\n",
       " 'translateAlias',\n",
       " 'write']"
      ]
     },
     "execution_count": 42,
     "metadata": {},
     "output_type": "execute_result"
    }
   ],
   "source": [
    "dir(scheme)"
   ]
  },
  {
   "cell_type": "code",
   "execution_count": 72,
   "id": "6c397faf-81c2-4c3f-ab7f-4dec31caa4ff",
   "metadata": {},
   "outputs": [
    {
     "name": "stdout",
     "output_type": "stream",
     "text": [
      "[[-3.5  0.   0. ]\n",
      " [-2.5  0.   0. ]\n",
      " [-1.5  0.   0. ]\n",
      " [-0.5  0.   0. ]\n",
      " [ 0.5  0.   0. ]\n",
      " [ 1.5  0.   0. ]\n",
      " [ 2.5  0.   0. ]\n",
      " [ 3.5  0.   0. ]]\n"
     ]
    }
   ],
   "source": [
    "print(scheme.sensors())"
   ]
  },
  {
   "cell_type": "code",
   "execution_count": 28,
   "id": "12db2a30-b273-47fe-8fdb-d3cd2d814dec",
   "metadata": {},
   "outputs": [
    {
     "data": {
      "text/plain": [
       "['1\\t2\\t3\\t4\\t0.00000000000000e+00\\t0.00000000000000e+00\\t0.00000000000000e+00\\t0.00000000000000e+00\\t0.00000000000000e+00\\t0.00000000000000e+00\\t0.00000000000000e+00\\t0.00000000000000e+00\\t1\\n',\n",
       " '2\\t3\\t4\\t5\\t0.00000000000000e+00\\t0.00000000000000e+00\\t0.00000000000000e+00\\t0.00000000000000e+00\\t0.00000000000000e+00\\t0.00000000000000e+00\\t0.00000000000000e+00\\t0.00000000000000e+00\\t1\\n',\n",
       " '3\\t4\\t5\\t6\\t0.00000000000000e+00\\t0.00000000000000e+00\\t0.00000000000000e+00\\t0.00000000000000e+00\\t0.00000000000000e+00\\t0.00000000000000e+00\\t0.00000000000000e+00\\t0.00000000000000e+00\\t1\\n',\n",
       " '4\\t5\\t6\\t7\\t0.00000000000000e+00\\t0.00000000000000e+00\\t0.00000000000000e+00\\t0.00000000000000e+00\\t0.00000000000000e+00\\t0.00000000000000e+00\\t0.00000000000000e+00\\t0.00000000000000e+00\\t1\\n',\n",
       " '5\\t6\\t7\\t8\\t0.00000000000000e+00\\t0.00000000000000e+00\\t0.00000000000000e+00\\t0.00000000000000e+00\\t0.00000000000000e+00\\t0.00000000000000e+00\\t0.00000000000000e+00\\t0.00000000000000e+00\\t1\\n',\n",
       " '1\\t2\\t4\\t5\\t0.00000000000000e+00\\t0.00000000000000e+00\\t0.00000000000000e+00\\t0.00000000000000e+00\\t0.00000000000000e+00\\t0.00000000000000e+00\\t0.00000000000000e+00\\t0.00000000000000e+00\\t1\\n',\n",
       " '2\\t3\\t5\\t6\\t0.00000000000000e+00\\t0.00000000000000e+00\\t0.00000000000000e+00\\t0.00000000000000e+00\\t0.00000000000000e+00\\t0.00000000000000e+00\\t0.00000000000000e+00\\t0.00000000000000e+00\\t1\\n',\n",
       " '3\\t4\\t6\\t7\\t0.00000000000000e+00\\t0.00000000000000e+00\\t0.00000000000000e+00\\t0.00000000000000e+00\\t0.00000000000000e+00\\t0.00000000000000e+00\\t0.00000000000000e+00\\t0.00000000000000e+00\\t1\\n',\n",
       " '4\\t5\\t7\\t8\\t0.00000000000000e+00\\t0.00000000000000e+00\\t0.00000000000000e+00\\t0.00000000000000e+00\\t0.00000000000000e+00\\t0.00000000000000e+00\\t0.00000000000000e+00\\t0.00000000000000e+00\\t1\\n',\n",
       " '1\\t2\\t5\\t6\\t0.00000000000000e+00\\t0.00000000000000e+00\\t0.00000000000000e+00\\t0.00000000000000e+00\\t0.00000000000000e+00\\t0.00000000000000e+00\\t0.00000000000000e+00\\t0.00000000000000e+00\\t1\\n',\n",
       " '2\\t3\\t6\\t7\\t0.00000000000000e+00\\t0.00000000000000e+00\\t0.00000000000000e+00\\t0.00000000000000e+00\\t0.00000000000000e+00\\t0.00000000000000e+00\\t0.00000000000000e+00\\t0.00000000000000e+00\\t1\\n',\n",
       " '3\\t4\\t7\\t8\\t0.00000000000000e+00\\t0.00000000000000e+00\\t0.00000000000000e+00\\t0.00000000000000e+00\\t0.00000000000000e+00\\t0.00000000000000e+00\\t0.00000000000000e+00\\t0.00000000000000e+00\\t1\\n',\n",
       " '1\\t2\\t6\\t7\\t0.00000000000000e+00\\t0.00000000000000e+00\\t0.00000000000000e+00\\t0.00000000000000e+00\\t0.00000000000000e+00\\t0.00000000000000e+00\\t0.00000000000000e+00\\t0.00000000000000e+00\\t1\\n',\n",
       " '2\\t3\\t7\\t8\\t0.00000000000000e+00\\t0.00000000000000e+00\\t0.00000000000000e+00\\t0.00000000000000e+00\\t0.00000000000000e+00\\t0.00000000000000e+00\\t0.00000000000000e+00\\t0.00000000000000e+00\\t1\\n',\n",
       " '1\\t2\\t7\\t8\\t0.00000000000000e+00\\t0.00000000000000e+00\\t0.00000000000000e+00\\t0.00000000000000e+00\\t0.00000000000000e+00\\t0.00000000000000e+00\\t0.00000000000000e+00\\t0.00000000000000e+00\\t1\\n']"
      ]
     },
     "execution_count": 28,
     "metadata": {},
     "output_type": "execute_result"
    }
   ],
   "source": [
    "scheme"
   ]
  },
  {
   "cell_type": "code",
   "execution_count": null,
   "id": "3ed56a34-36f2-437a-bc5f-86e3c1dcaee2",
   "metadata": {},
   "outputs": [],
   "source": []
  }
 ],
 "metadata": {
  "kernelspec": {
   "display_name": "Python 3 (ipykernel)",
   "language": "python",
   "name": "python3"
  },
  "language_info": {
   "codemirror_mode": {
    "name": "ipython",
    "version": 3
   },
   "file_extension": ".py",
   "mimetype": "text/x-python",
   "name": "python",
   "nbconvert_exporter": "python",
   "pygments_lexer": "ipython3",
   "version": "3.9.13"
  }
 },
 "nbformat": 4,
 "nbformat_minor": 5
}
