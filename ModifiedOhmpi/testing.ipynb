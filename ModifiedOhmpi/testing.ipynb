{
 "cells": [
  {
   "cell_type": "code",
   "execution_count": 2,
   "id": "58c12292-7442-4062-9abb-f98b50f45551",
   "metadata": {},
   "outputs": [],
   "source": [
    "import numpy as np\n",
    "import matplotlib.pyplot as plt"
   ]
  },
  {
   "cell_type": "code",
   "execution_count": 3,
   "id": "7ab2b9e4-9c57-4629-bd9c-aaa2bc8c7ae6",
   "metadata": {},
   "outputs": [
    {
     "name": "stdout",
     "output_type": "stream",
     "text": [
      "STARTING DIPOLE DIPOLE SCHEME FOR 1891 ELECTRODE COMBINATIONS\n",
      "Estimated time for one cycle:  63  minutes.\n"
     ]
    }
   ],
   "source": [
    "def find(string, sub, n):\n",
    "    index = 0\n",
    "    newstr = string\n",
    "    for i in range(n):\n",
    "        index = newstr.index(sub, index+1)\n",
    "        newstr = newstr[index+1:]\n",
    "        # print(newstr)\n",
    "        # print(\"ahem\")\n",
    "        # print(index)\n",
    "    \n",
    "    return index\n",
    "\n",
    "activation_time = 1\n",
    "\n",
    "with open('scheme3d.shm') as f:\n",
    "    lines = f.readlines()\n",
    "\n",
    "start = lines.index('# a b m n err i ip iperr k r rhoa u valid \\n')\n",
    "scheme = lines[start:][1:-1]\n",
    "\n",
    "elec_combos = np.array([scheme[i].split() for i in range(len(scheme))]).astype(float)\n",
    "\n",
    "a = np.transpose(elec_combos)[0]\n",
    "b = np.transpose(elec_combos)[1]\n",
    "m = np.transpose(elec_combos)[2]\n",
    "n = np.transpose(elec_combos)[3]\n",
    "\n",
    "print(\"STARTING DIPOLE DIPOLE SCHEME FOR\", len(a), \"ELECTRODE COMBINATIONS\")\n",
    "print(\"Estimated time for one cycle: \", round(activation_time*2*len(a)/60), \" minutes.\")"
   ]
  },
  {
   "cell_type": "code",
   "execution_count": 4,
   "id": "ce5386d7-4270-4a12-8baf-3510739441ae",
   "metadata": {},
   "outputs": [
    {
     "name": "stdout",
     "output_type": "stream",
     "text": [
      "1\t2\t3\t4\t0.00000000000000e+00\t0.00000000000000e+00\t0.00000000000000e+00\t0.00000000000000e+00\t0.00000000000000e+00\t0.00000000000000e+00\t0.00000000000000e+00\t0.00000000000000e+00\t1\n",
      "\n"
     ]
    },
    {
     "data": {
      "text/plain": [
       "'2\\t3\\t4\\t0.00000000000000e+00\\t0.00000000000000e+00\\t0.00000000000000e+00\\t0.00000000000000e+00\\t0.00000000000000e+00\\t0.00000000000000e+00\\t0.00000000000000e+00\\t0.00000000000000e+00\\t1\\n'"
      ]
     },
     "execution_count": 4,
     "metadata": {},
     "output_type": "execute_result"
    }
   ],
   "source": [
    "start = scheme[1].index('\\t', 1)\n",
    "end = scheme[1].index('\\t', 1)\n",
    "print(scheme[0])\n",
    "scheme[0][0:scheme[0].index('\\t', 1)]\n",
    "scheme[0][scheme[0].index('\\t', 1)]\n",
    "scheme[0].index('\\t')\n",
    "scheme[0][scheme[0].index('\\t')+1:]"
   ]
  },
  {
   "cell_type": "code",
   "execution_count": 5,
   "id": "5c128962-fe97-4caf-a2ab-ad82cc856746",
   "metadata": {},
   "outputs": [],
   "source": [
    "b = [(scheme[0][scheme[0].index('\\t', 1)+2:scheme[0].index('\\t', 2)]) for i in range(1, len(scheme))]"
   ]
  },
  {
   "cell_type": "code",
   "execution_count": 6,
   "id": "564da549-ab1b-4f92-b0c2-715e6a5417e1",
   "metadata": {},
   "outputs": [
    {
     "name": "stdout",
     "output_type": "stream",
     "text": [
      "32\n"
     ]
    }
   ],
   "source": [
    "# print(scheme[0])\n",
    "ind = find(scheme[30], '\\t', 1)\n",
    "ind2 = find(scheme[30], '\\t', 2)\n",
    "print(scheme[30][ind+1:ind2])"
   ]
  },
  {
   "cell_type": "code",
   "execution_count": null,
   "id": "015e8983-4923-48ab-a89a-e3e135102c57",
   "metadata": {},
   "outputs": [],
   "source": []
  },
  {
   "cell_type": "code",
   "execution_count": 7,
   "id": "7f1b9a20-faeb-45fb-b8a8-1b084de2bcc9",
   "metadata": {},
   "outputs": [],
   "source": [
    "# a = [int(scheme[i][0:scheme[i].index('\\t')]) for i in range(len(scheme))]\n",
    " \n",
    "# #    find(scheme[i], '\\t', 1)\n",
    "\n",
    "# b = [(scheme[i][find(scheme[30], '\\t', 0)+1:find(scheme[30], '\\t', 1)]) for i in range(1, len(scheme))]\n",
    "# m = [int(scheme[i][find(scheme[30], '\\t', 1):find(scheme[30], '\\t', 2)]) for i in range(1, len(scheme))]\n",
    "# n = [int(scheme[i][find(scheme[30], '\\t', 2):find(scheme[30], '\\t', 3)]) for i in range(1, len(scheme))]\n"
   ]
  },
  {
   "cell_type": "code",
   "execution_count": 8,
   "id": "18c9b112-4946-4d31-93ee-d8f5235fa733",
   "metadata": {},
   "outputs": [
    {
     "name": "stdout",
     "output_type": "stream",
     "text": [
      "STARTING DIPOLE DIPOLE SCHEME FOR 1891 ELECTRODE COMBINATIONS\n",
      "Time:  Thu Nov 17 23:45:04 2022\n",
      "Estimated time for one cycle:  63  minutes.\n",
      "Repeating cycle every  65  minutes.\n",
      "FINISHED CYCLE. SLEEPING FOR  60 MINUTES.\n"
     ]
    }
   ],
   "source": [
    "import time\n",
    "repeat = 65\n",
    "duration = 5*60\n",
    "print(\"STARTING DIPOLE DIPOLE SCHEME FOR\", len(a), \"ELECTRODE COMBINATIONS\")\n",
    "print(\"Time: \", time.ctime(time.time()))\n",
    "print(\"Estimated time for one cycle: \", round(activation_time*2*len(a)/60), \" minutes.\")\n",
    "print(\"Repeating cycle every \", repeat, \" minutes.\")\n",
    "print(\"FINISHED CYCLE. SLEEPING FOR \", round(repeat - duration/60), \"MINUTES.\")"
   ]
  },
  {
   "cell_type": "code",
   "execution_count": 344,
   "id": "f999a682-893f-4f09-be61-1ca87c66b604",
   "metadata": {},
   "outputs": [],
   "source": [
    "def resistivity_rule(x, y, z, t, rule=\"rainfall\"):\n",
    "    if rule==\"hom\":\n",
    "        return np.zeros(x.shape)+100\n",
    "    if rule==\"rainfall\":\n",
    "        moisture = np.exp(-1*z)*(t+1)\n",
    "        #print(moisture)\n",
    "        return 100*moisture # 100 initial dry resistivity\n",
    "        \n",
    "    else:\n",
    "        print(\"wrong rule choice\")"
   ]
  },
  {
   "cell_type": "code",
   "execution_count": 345,
   "id": "64fba659-00e8-43cf-a50e-9f00c6d4aee1",
   "metadata": {},
   "outputs": [
    {
     "data": {
      "image/png": "[encoded data removed]",
      "text/plain": [
       "<Figure size 640x480 with 1 Axes>"
      ]
     },
     "metadata": {},
     "output_type": "display_data"
    },
    {
     "data": {
      "text/plain": [
       "<matplotlib.collections.PathCollection at 0x161ec3cd0>"
      ]
     },
     "execution_count": 345,
     "metadata": {},
     "output_type": "execute_result"
    },
    {
     "data": {
      "image/png": "[encoded data removed]",
      "text/plain": [
       "<Figure size 640x480 with 1 Axes>"
      ]
     },
     "metadata": {},
     "output_type": "display_data"
    }
   ],
   "source": [
    "#TESTING\n",
    "# create electrode scheme\n",
    "x = np.linspace(-3.5, 3.5, 8)\n",
    "y = np.linspace(-3.5, 3.5, 8)\n",
    "\n",
    "xx, yy = np.meshgrid(x, y)\n",
    "\n",
    "plt.scatter(xx, yy)\n",
    "plt.show()\n",
    "\n",
    "elec_nums = np.linspace(1, 64, 64).reshape(xx.shape)\n",
    "positions = np.transpose(np.vstack([xx.ravel(), yy.ravel(), np.zeros(xx.shape).ravel()]))\n",
    "\n",
    "ttest = np.linspace(1, 10, 100)\n",
    "plt.scatter(ttest, np.exp(-1*ttest))"
   ]
  },
  {
   "cell_type": "code",
   "execution_count": 346,
   "id": "63d45017-ea60-41eb-9c70-20f6da8c2247",
   "metadata": {},
   "outputs": [
    {
     "name": "stdout",
     "output_type": "stream",
     "text": [
      "[[ 1.  2.  3.  4.  5.  6.  7.  8.]\n",
      " [ 9. 10. 11. 12. 13. 14. 15. 16.]\n",
      " [17. 18. 19. 20. 21. 22. 23. 24.]\n",
      " [25. 26. 27. 28. 29. 30. 31. 32.]\n",
      " [33. 34. 35. 36. 37. 38. 39. 40.]\n",
      " [41. 42. 43. 44. 45. 46. 47. 48.]\n",
      " [49. 50. 51. 52. 53. 54. 55. 56.]\n",
      " [57. 58. 59. 60. 61. 62. 63. 64.]]\n",
      "15\n",
      "R3Vector: n=64\n"
     ]
    },
    {
     "data": {
      "text/plain": [
       "Data: Sensors: 64 data: 240, nonzero entries: ['a', 'b', 'm', 'n', 'valid']"
      ]
     },
     "execution_count": 346,
     "metadata": {},
     "output_type": "execute_result"
    }
   ],
   "source": [
    "#create a dipole-dipole scheme\n",
    "from pygimli.physics import ert\n",
    "import pygimli as pg\n",
    "scheme = ert.createData(elecs=np.linspace(start=-3.5, stop=3.5, num=8),\n",
    "                           schemeName='dd')\n",
    "\n",
    "print(elec_nums)\n",
    "\n",
    "ainit = scheme['a']\n",
    "binit = scheme['b']\n",
    "minit = scheme['m']\n",
    "ninit = scheme['n']\n",
    "check = np.transpose(np.array((ainit, binit, minit, ninit)))\n",
    "\n",
    "print(len(ainit))\n",
    "\n",
    "scheme = ert.createData(elecs=0,schemeName='dd')\n",
    "\n",
    "[scheme.createSensor(positions[i]) for i in range(len(positions))]\n",
    "for st in np.transpose(elec_nums)[0]:\n",
    "    [scheme.addFourPointData((check+st)[i]) for i in range(len(check))]\n",
    "\n",
    "for st in elec_nums[0]:\n",
    "    [scheme.addFourPointData((check*8+st)[i]) for i in range(len(check))]\n",
    "\n",
    "print(scheme.sensors())\n",
    "scheme.save(\"test.txt\")\n",
    "scheme"
   ]
  },
  {
   "cell_type": "code",
   "execution_count": 347,
   "id": "12d0c531-09f0-4419-bfd4-44b84ccfaaa2",
   "metadata": {},
   "outputs": [],
   "source": [
    "def ves(combo, xgrid, ygrid, t, model, i=0.05, noiseLevel=0.01, elecs=elec_nums):\n",
    "    ax = xgrid[np.where(elecs==combo[0])]\n",
    "    ay = ygrid[np.where(elecs==combo[0])]\n",
    "    bx = xgrid[np.where(elecs==combo[1])]\n",
    "    by = ygrid[np.where(elecs==combo[1])]\n",
    "    mx = xgrid[np.where(elecs==combo[2])]\n",
    "    my = ygrid[np.where(elecs==combo[2])]\n",
    "    nx = xgrid[np.where(elecs==combo[3])]\n",
    "    ny = ygrid[np.where(elecs==combo[3])]\n",
    "    \n",
    "    # print(ax, ay, bx, by, mx, my, nx, ny)\n",
    "    \n",
    "    k = 2*np.pi/(((ax-mx)**2 + (ay-my)**2)**-0.5 - ((bx-mx)**2 + (by-my)**2)**-0.5 - ((ax-nx)**2 + (ay-ny)**2)**-0.5 + ((bx-nx)**2 + (by-ny)**2)**-0.5)\n",
    "\n",
    "    x = ((ax+bx)/2 - (mx+nx)/2)/2\n",
    "    y = ((ay+by)/2 - (my+ny)/2)/2\n",
    "    z = 0.2*(((ax+bx)/2 - (mx + nx)/2)**2 + ((ay+by)/2 - (my+ny)/2)**2)**0.5\n",
    "    \n",
    "    p = model(x, y, z, t)\n",
    "    \n",
    "    v0 = p*i/k # calculate DC potential\n",
    "    \n",
    "    v0+= np.random.normal(0,noiseLevel,1) # add gaussian noise\n",
    "    \n",
    "    return abs(v0), [x, y, z], p\n",
    "\n",
    "def charging(v, i, c, t, vs):\n",
    "    capv = v + vs*(1 - np.exp(-1*t/(v*c/i)))\n",
    "    capv[0] = 0 # not sure if this is okay to do.\n",
    "    return capv\n",
    "\n",
    "def discharging(v, i, c, t, vs):\n",
    "    capv = vs*np.exp(-1*t/(v*c/i))\n",
    "    capv[0] = v + vs\n",
    "    return capv\n",
    "\n",
    "def full_curve(v, i, c, t, vs, noiseLevel=0):\n",
    "    t2 = t + max(t)\n",
    "    return (np.concatenate((t, t2)), np.concatenate((charging(v, i, c, t, vs), discharging(v, i, c, t, vs))) + np.random.normal(0,noiseLevel,len(t)*2))\n",
    "\n"
   ]
  },
  {
   "cell_type": "code",
   "execution_count": 348,
   "id": "d456fcad-b4e1-422c-8d4c-a14ac69e7735",
   "metadata": {},
   "outputs": [
    {
     "name": "stdout",
     "output_type": "stream",
     "text": [
      "[0.19504706] [67.0320046]\n"
     ]
    },
    {
     "data": {
      "text/plain": [
       "Text(0, 0.5, 'Voltage (V)')"
      ]
     },
     "execution_count": 348,
     "metadata": {},
     "output_type": "execute_result"
    },
    {
     "data": {
      "image/png": "[encoded data removed]",
      "text/plain": [
       "<Figure size 640x480 with 1 Axes>"
      ]
     },
     "metadata": {},
     "output_type": "display_data"
    }
   ],
   "source": [
    "\n",
    "v, xyz, rhoa = ves((check+1)[0], xx, yy, t=0, model=resistivity_rule, i=0.05, noiseLevel=0.01, elecs=elec_nums)\n",
    "print(v, rhoa)\n",
    "t = np.linspace(0, 1, 20)\n",
    "tnew, resp = full_curve(v, i=0.05, c=0.5, t=t, vs=0.20*v, noiseLevel=0.008)\n",
    "plt.plot(tnew, resp, \"k.\", label=\"Raw Data\")\n",
    "#plt.plot(full_curve(i, r, c, t, vs)[0], smooth(full_curve(i, r, c, t, vs)[1]), \"r\", label=\"Smoothed\")\n",
    "plt.legend()\n",
    "plt.title(\"Expected Potential vs. Time Measurement for OhmPi with 1% Noise Level\")\n",
    "plt.xlabel(\"Time (s)\")\n",
    "plt.ylabel(\"Voltage (V)\")"
   ]
  },
  {
   "cell_type": "code",
   "execution_count": 352,
   "id": "6c397faf-81c2-4c3f-ab7f-4dec31caa4ff",
   "metadata": {},
   "outputs": [],
   "source": [
    "import pandas as pd\n",
    "df = pd.DataFrame()\n",
    "\n",
    "# d = {}\n",
    "\n",
    "for i in range(len(scheme['a'])):\n",
    "    quad = [scheme['a'][i], scheme['b'][i], scheme['m'][i], scheme['n'][i]]\n",
    "    i = 0.05\n",
    "    v, xyz, rhoa = ves(quad, xx, yy, t=0, model=resistivity_rule, i=i, noiseLevel=0.01, elecs=elec_nums)\n",
    "    tnew, resp = full_curve(v, i=0.05, c=0.5, t=t, vs=0.20*v, noiseLevel=0.008)\n",
    "    d = {\n",
    "                \"time\": time.time(),\n",
    "                \"A\": quad[0],\n",
    "                \"B\": quad[1],\n",
    "                \"M\": quad[2],\n",
    "                \"N\": quad[3],\n",
    "                \"inj time [ms]\": activation_time,\n",
    "                \"Vmn [mV]\": v[0],\n",
    "                \"I [mA]\": i,\n",
    "                \"R [ohm]\": v[0]/i,\n",
    "                \"Nb samples [-]\": len(t),\n",
    "                \"x\":xyz[0],\n",
    "                \"y\":xyz[1],\n",
    "                \"z\":xyz[2],\n",
    "                \"Rhoa\":rhoa,\n",
    "                \"fulldata\": [tnew, resp],\n",
    "            }\n",
    "    \n",
    "    df_dictionary = pd.DataFrame([d])\n",
    "    df = pd.concat([df, df_dictionary], ignore_index=True)\n",
    "    \n",
    "\n",
    "df.to_csv(\"simple_rainfall.csv\")"
   ]
  },
  {
   "cell_type": "code",
   "execution_count": 350,
   "id": "12db2a30-b273-47fe-8fdb-d3cd2d814dec",
   "metadata": {},
   "outputs": [
    {
     "data": {
      "image/png": "[encoded data removed]",
      "text/plain": [
       "<Figure size 640x480 with 1 Axes>"
      ]
     },
     "metadata": {},
     "output_type": "display_data"
    }
   ],
   "source": [
    "z =np.array(df[\"z\"])\n",
    "rho = np.array(df[\"Rhoa\"])\n",
    "va = np.array(df[\"Vmn [mV]\"])\n",
    "\n",
    "#plt.scatter(z, rho)\n",
    "plt.scatter(z, va)\n",
    "\n",
    "df.to_csv(\"hommodel.csv\")"
   ]
  },
  {
   "cell_type": "code",
   "execution_count": 301,
   "id": "3ed56a34-36f2-437a-bc5f-86e3c1dcaee2",
   "metadata": {},
   "outputs": [
    {
     "data": {
      "text/plain": [
       "Text(0, 0.5, 'Voltage (arb. units)')"
      ]
     },
     "execution_count": 301,
     "metadata": {},
     "output_type": "execute_result"
    },
    {
     "data": {
      "image/png": "[encoded data removed]",
      "text/plain": [
       "<Figure size 640x480 with 1 Axes>"
      ]
     },
     "metadata": {},
     "output_type": "display_data"
    }
   ],
   "source": [
    "# Charging/discharging template\n",
    "\n",
    "def charging(v, i, c, t, vs):\n",
    "    capv = v + vs*(1 - np.exp(-1*t/(v*c/i)))\n",
    "    capv[0] = 0 # not sure if this is okay to do.\n",
    "    return capv\n",
    "\n",
    "def discharging(v, i, c, t, vs):\n",
    "    capv = vs*np.exp(-1*t/(v*c/i))\n",
    "    capv[0] = v + vs\n",
    "    return capv\n",
    "\n",
    "def full_curve(v, i, c, t, vs, noiseLevel=0.02):\n",
    "    t2 = t + max(t)\n",
    "    return (np.concatenate((t, t2)), np.concatenate((charging(v, i, c, t, vs), discharging(v, i, c, t, vs))) + np.random.normal(0,noiseLevel,len(t)*2))\n",
    "\n",
    "i = 1\n",
    "r = 1\n",
    "c = 0.5\n",
    "vs = 0.5\n",
    "plt.plot(full_curve(i, r, c, t, vs)[0], full_curve(i, r, c, t, vs)[1], \"k.\", label=\"Raw Data\")\n",
    "#plt.plot(full_curve(i, r, c, t, vs)[0], smooth(full_curve(i, r, c, t, vs)[1]), \"r\", label=\"Smoothed\")\n",
    "plt.legend()\n",
    "plt.title(\"Expected Potential vs. Time Measurement for OhmPi with 1% Noise Level\")\n",
    "plt.xlabel(\"Time (ms)\")\n",
    "plt.ylabel(\"Voltage (arb. units)\")"
   ]
  },
  {
   "cell_type": "code",
   "execution_count": 355,
   "id": "4fa6283a-8d9b-4db0-b211-88a6fb50c29f",
   "metadata": {},
   "outputs": [],
   "source": [
    "def format_scheme(scheme_file):\n",
    "    df = pd.read_csv(scheme_file)\n",
    "\n",
    "    return df[\"A\"], df[\"B\"], df[\"M\"], df[\"N\"]"
   ]
  },
  {
   "cell_type": "code",
   "execution_count": 359,
   "id": "ba982beb-b0da-4e90-83ab-d870f09aec9d",
   "metadata": {},
   "outputs": [
    {
     "data": {
      "text/plain": [
       "time                                              1668791493.159221\n",
       "A                                                                 4\n",
       "B                                                                 5\n",
       "M                                                                 6\n",
       "N                                                                 7\n",
       "inj time [ms]                                                     1\n",
       "Vmn [mV]                                                   0.149887\n",
       "I [mA]                                                         0.05\n",
       "R [ohm]                                                    2.997737\n",
       "Nb samples [-]                                                   20\n",
       "x                                                            [-1.0]\n",
       "y                                                             [0.0]\n",
       "z                                                             [0.4]\n",
       "Rhoa                                            [67.03200460356393]\n",
       "fulldata          [[0.0, 0.05263157894736842, 0.1052631578947368...\n",
       "Name: 3, dtype: object"
      ]
     },
     "execution_count": 359,
     "metadata": {},
     "output_type": "execute_result"
    }
   ],
   "source": [
    "format_scheme(\"hommodel.csv\")\n",
    "df.iloc[3]"
   ]
  },
  {
   "cell_type": "code",
   "execution_count": 368,
   "id": "b06ba859-0632-4369-b3d8-56353be07d4c",
   "metadata": {},
   "outputs": [
    {
     "name": "stdout",
     "output_type": "stream",
     "text": [
      "Time: 1668791493.152757  Injection Time: 1 Injected Current (A): 0.05  Measured Potential (V): 0.20137626757438537  Rhoa (ohmm): 67.03200460356393  Acq. Depth (m): 0.4\n"
     ]
    }
   ],
   "source": [
    "row = df.iloc[0]\n",
    "print(f\"Time: {row['time']}  Injection Time: {row['inj time [ms]']} Injected Current (A): {row['I [mA]']}  Measured Potential (V): {row['Vmn [mV]']}  Rhoa (ohmm): {row['Rhoa'][0]}  Acq. Depth (m): {row['z'][0]}\")"
   ]
  },
  {
   "cell_type": "code",
   "execution_count": 363,
   "id": "9038b6e5-45d4-4638-9880-45f176f008c0",
   "metadata": {},
   "outputs": [
    {
     "ename": "SyntaxError",
     "evalue": "f-string: unmatched '[' (3485877483.py, line 1)",
     "output_type": "error",
     "traceback": [
      "\u001b[0;36m  Input \u001b[0;32mIn [363]\u001b[0;36m\u001b[0m\n\u001b[0;31m    print(f\"Time: {row[\"time\"]}\")\u001b[0m\n\u001b[0m                        ^\u001b[0m\n\u001b[0;31mSyntaxError\u001b[0m\u001b[0;31m:\u001b[0m f-string: unmatched '['\n"
     ]
    }
   ],
   "source": [
    "print(f\"Time: {row[\"time\"]}\")"
   ]
  },
  {
   "cell_type": "code",
   "execution_count": 428,
   "id": "dddc4b17-cd68-4426-bca8-4997e9b340fc",
   "metadata": {},
   "outputs": [
    {
     "data": {
      "text/plain": [
       "16"
      ]
     },
     "execution_count": 428,
     "metadata": {},
     "output_type": "execute_result"
    }
   ],
   "source": [
    "import csv\n",
    "lines=[]\n",
    "with open(\"simple_rainfall.csv\", \"r\") as f:\n",
    "    reader = csv.reader(f, delimiter=\",\")\n",
    "    for i, line in enumerate(reader):\n",
    "        # print('line[{}] = {}'.format(i, line))\n",
    "        lines.append(line)\n",
    "len(np.transpose(np.array(lines)))\n",
    "\n",
    "# count = 1\n",
    "# for i in range(int(len(lines)/15)):\n",
    "#     print(lines[count])\n",
    "#     print(\"jhgj\")\n",
    "#     count+=15"
   ]
  },
  {
   "cell_type": "code",
   "execution_count": 454,
   "id": "25fa1120-bb01-4e67-99a5-dab0357a975d",
   "metadata": {},
   "outputs": [],
   "source": [
    "def read_csv(fn=\"simple_rainfall.csv\"):\n",
    "    lines=[]\n",
    "    with open(\"simple_rainfall.csv\", \"r\") as f:\n",
    "        reader = csv.reader(f, delimiter=\",\")\n",
    "        for i, line in enumerate(reader):\n",
    "            lines.append(line)\n",
    "            \n",
    "    dat = np.transpose(np.array(lines))\n",
    "    #print(dat)\n",
    "    d = {}\n",
    "    for i in range(len(dat)):\n",
    "        d[dat[i][0]] = dat[i][1:]\n",
    "    return d"
   ]
  },
  {
   "cell_type": "code",
   "execution_count": 463,
   "id": "4dae9538-4d45-4850-be71-00b9a183002e",
   "metadata": {},
   "outputs": [
    {
     "data": {
      "text/plain": [
       "1668801867.647462"
      ]
     },
     "execution_count": 463,
     "metadata": {},
     "output_type": "execute_result"
    }
   ],
   "source": [
    "d = read_csv()\n",
    "time.time()"
   ]
  },
  {
   "cell_type": "code",
   "execution_count": 444,
   "id": "a74fc4ef-1c38-4949-98da-1c68981fb67a",
   "metadata": {},
   "outputs": [
    {
     "data": {
      "text/html": [
       "<div>\n",
       "<style scoped>\n",
       "    .dataframe tbody tr th:only-of-type {\n",
       "        vertical-align: middle;\n",
       "    }\n",
       "\n",
       "    .dataframe tbody tr th {\n",
       "        vertical-align: top;\n",
       "    }\n",
       "\n",
       "    .dataframe thead th {\n",
       "        text-align: right;\n",
       "    }\n",
       "</style>\n",
       "<table border=\"1\" class=\"dataframe\">\n",
       "  <thead>\n",
       "    <tr style=\"text-align: right;\">\n",
       "      <th></th>\n",
       "      <th></th>\n",
       "      <th>time</th>\n",
       "      <th>A</th>\n",
       "      <th>B</th>\n",
       "      <th>M</th>\n",
       "      <th>N</th>\n",
       "      <th>inj time [ms]</th>\n",
       "      <th>Vmn [mV]</th>\n",
       "      <th>I [mA]</th>\n",
       "      <th>R [ohm]</th>\n",
       "      <th>Nb samples [-]</th>\n",
       "      <th>x</th>\n",
       "      <th>y</th>\n",
       "      <th>z</th>\n",
       "      <th>Rhoa</th>\n",
       "      <th>fulldata</th>\n",
       "    </tr>\n",
       "  </thead>\n",
       "  <tbody>\n",
       "    <tr>\n",
       "      <th>0</th>\n",
       "      <td>0</td>\n",
       "      <td>1668791493.152757</td>\n",
       "      <td>1</td>\n",
       "      <td>2</td>\n",
       "      <td>3</td>\n",
       "      <td>4</td>\n",
       "      <td>1</td>\n",
       "      <td>0.20137626757438537</td>\n",
       "      <td>0.05</td>\n",
       "      <td>4.027525351487707</td>\n",
       "      <td>20</td>\n",
       "      <td>[-1.]</td>\n",
       "      <td>[0.]</td>\n",
       "      <td>[0.4]</td>\n",
       "      <td>[67.0320046]</td>\n",
       "      <td>[array([0.        , 0.05263158, 0.10526316, 0....</td>\n",
       "    </tr>\n",
       "    <tr>\n",
       "      <th>1</th>\n",
       "      <td>1</td>\n",
       "      <td>1668791493.1546712</td>\n",
       "      <td>2</td>\n",
       "      <td>3</td>\n",
       "      <td>4</td>\n",
       "      <td>5</td>\n",
       "      <td>1</td>\n",
       "      <td>0.15492560367215727</td>\n",
       "      <td>0.05</td>\n",
       "      <td>3.0985120734431453</td>\n",
       "      <td>20</td>\n",
       "      <td>[-1.]</td>\n",
       "      <td>[0.]</td>\n",
       "      <td>[0.4]</td>\n",
       "      <td>[67.0320046]</td>\n",
       "      <td>[array([0.        , 0.05263158, 0.10526316, 0....</td>\n",
       "    </tr>\n",
       "    <tr>\n",
       "      <th>2</th>\n",
       "      <td>2</td>\n",
       "      <td>1668791493.1569731</td>\n",
       "      <td>3</td>\n",
       "      <td>4</td>\n",
       "      <td>5</td>\n",
       "      <td>6</td>\n",
       "      <td>1</td>\n",
       "      <td>0.1612566129218576</td>\n",
       "      <td>0.05</td>\n",
       "      <td>3.225132258437152</td>\n",
       "      <td>20</td>\n",
       "      <td>[-1.]</td>\n",
       "      <td>[0.]</td>\n",
       "      <td>[0.4]</td>\n",
       "      <td>[67.0320046]</td>\n",
       "      <td>[array([0.        , 0.05263158, 0.10526316, 0....</td>\n",
       "    </tr>\n",
       "    <tr>\n",
       "      <th>3</th>\n",
       "      <td>3</td>\n",
       "      <td>1668791493.159221</td>\n",
       "      <td>4</td>\n",
       "      <td>5</td>\n",
       "      <td>6</td>\n",
       "      <td>7</td>\n",
       "      <td>1</td>\n",
       "      <td>0.14988684412301936</td>\n",
       "      <td>0.05</td>\n",
       "      <td>2.997736882460387</td>\n",
       "      <td>20</td>\n",
       "      <td>[-1.]</td>\n",
       "      <td>[0.]</td>\n",
       "      <td>[0.4]</td>\n",
       "      <td>[67.0320046]</td>\n",
       "      <td>[array([0.        , 0.05263158, 0.10526316, 0....</td>\n",
       "    </tr>\n",
       "    <tr>\n",
       "      <th>4</th>\n",
       "      <td>4</td>\n",
       "      <td>1668791493.160745</td>\n",
       "      <td>5</td>\n",
       "      <td>6</td>\n",
       "      <td>7</td>\n",
       "      <td>8</td>\n",
       "      <td>1</td>\n",
       "      <td>0.17437736504109558</td>\n",
       "      <td>0.05</td>\n",
       "      <td>3.4875473008219116</td>\n",
       "      <td>20</td>\n",
       "      <td>[-1.]</td>\n",
       "      <td>[0.]</td>\n",
       "      <td>[0.4]</td>\n",
       "      <td>[67.0320046]</td>\n",
       "      <td>[array([0.        , 0.05263158, 0.10526316, 0....</td>\n",
       "    </tr>\n",
       "    <tr>\n",
       "      <th>...</th>\n",
       "      <td>...</td>\n",
       "      <td>...</td>\n",
       "      <td>...</td>\n",
       "      <td>...</td>\n",
       "      <td>...</td>\n",
       "      <td>...</td>\n",
       "      <td>...</td>\n",
       "      <td>...</td>\n",
       "      <td>...</td>\n",
       "      <td>...</td>\n",
       "      <td>...</td>\n",
       "      <td>...</td>\n",
       "      <td>...</td>\n",
       "      <td>...</td>\n",
       "      <td>...</td>\n",
       "      <td>...</td>\n",
       "    </tr>\n",
       "    <tr>\n",
       "      <th>235</th>\n",
       "      <td>235</td>\n",
       "      <td>1668791493.5915232</td>\n",
       "      <td>16</td>\n",
       "      <td>24</td>\n",
       "      <td>48</td>\n",
       "      <td>56</td>\n",
       "      <td>1</td>\n",
       "      <td>0.0014650051030034132</td>\n",
       "      <td>0.05</td>\n",
       "      <td>0.029300102060068264</td>\n",
       "      <td>20</td>\n",
       "      <td>[0.]</td>\n",
       "      <td>[-2.]</td>\n",
       "      <td>[0.8]</td>\n",
       "      <td>[44.93289641]</td>\n",
       "      <td>[array([0.        , 0.05263158, 0.10526316, 0....</td>\n",
       "    </tr>\n",
       "    <tr>\n",
       "      <th>236</th>\n",
       "      <td>236</td>\n",
       "      <td>1668791493.592792</td>\n",
       "      <td>24</td>\n",
       "      <td>32</td>\n",
       "      <td>56</td>\n",
       "      <td>64</td>\n",
       "      <td>1</td>\n",
       "      <td>0.02073459384800824</td>\n",
       "      <td>0.05</td>\n",
       "      <td>0.41469187696016474</td>\n",
       "      <td>20</td>\n",
       "      <td>[0.]</td>\n",
       "      <td>[-2.]</td>\n",
       "      <td>[0.8]</td>\n",
       "      <td>[44.93289641]</td>\n",
       "      <td>[array([0.        , 0.05263158, 0.10526316, 0....</td>\n",
       "    </tr>\n",
       "    <tr>\n",
       "      <th>237</th>\n",
       "      <td>237</td>\n",
       "      <td>1668791493.594029</td>\n",
       "      <td>8</td>\n",
       "      <td>16</td>\n",
       "      <td>48</td>\n",
       "      <td>56</td>\n",
       "      <td>1</td>\n",
       "      <td>0.004875815623733477</td>\n",
       "      <td>0.05</td>\n",
       "      <td>0.09751631247466953</td>\n",
       "      <td>20</td>\n",
       "      <td>[0.]</td>\n",
       "      <td>[-2.5]</td>\n",
       "      <td>[1.]</td>\n",
       "      <td>[36.78794412]</td>\n",
       "      <td>[array([0.        , 0.05263158, 0.10526316, 0....</td>\n",
       "    </tr>\n",
       "    <tr>\n",
       "      <th>238</th>\n",
       "      <td>238</td>\n",
       "      <td>1668791493.595254</td>\n",
       "      <td>16</td>\n",
       "      <td>24</td>\n",
       "      <td>56</td>\n",
       "      <td>64</td>\n",
       "      <td>1</td>\n",
       "      <td>0.013882608704171835</td>\n",
       "      <td>0.05</td>\n",
       "      <td>0.2776521740834367</td>\n",
       "      <td>20</td>\n",
       "      <td>[0.]</td>\n",
       "      <td>[-2.5]</td>\n",
       "      <td>[1.]</td>\n",
       "      <td>[36.78794412]</td>\n",
       "      <td>[array([0.        , 0.05263158, 0.10526316, 0....</td>\n",
       "    </tr>\n",
       "    <tr>\n",
       "      <th>239</th>\n",
       "      <td>239</td>\n",
       "      <td>1668791493.5964868</td>\n",
       "      <td>8</td>\n",
       "      <td>16</td>\n",
       "      <td>56</td>\n",
       "      <td>64</td>\n",
       "      <td>1</td>\n",
       "      <td>0.004242199081796576</td>\n",
       "      <td>0.05</td>\n",
       "      <td>0.08484398163593151</td>\n",
       "      <td>20</td>\n",
       "      <td>[0.]</td>\n",
       "      <td>[-3.]</td>\n",
       "      <td>[1.2]</td>\n",
       "      <td>[30.11942119]</td>\n",
       "      <td>[array([0.        , 0.05263158, 0.10526316, 0....</td>\n",
       "    </tr>\n",
       "  </tbody>\n",
       "</table>\n",
       "<p>240 rows × 16 columns</p>\n",
       "</div>"
      ],
      "text/plain": [
       "                        time   A   B   M   N inj time [ms]  \\\n",
       "0      0   1668791493.152757   1   2   3   4             1   \n",
       "1      1  1668791493.1546712   2   3   4   5             1   \n",
       "2      2  1668791493.1569731   3   4   5   6             1   \n",
       "3      3   1668791493.159221   4   5   6   7             1   \n",
       "4      4   1668791493.160745   5   6   7   8             1   \n",
       "..   ...                 ...  ..  ..  ..  ..           ...   \n",
       "235  235  1668791493.5915232  16  24  48  56             1   \n",
       "236  236   1668791493.592792  24  32  56  64             1   \n",
       "237  237   1668791493.594029   8  16  48  56             1   \n",
       "238  238   1668791493.595254  16  24  56  64             1   \n",
       "239  239  1668791493.5964868   8  16  56  64             1   \n",
       "\n",
       "                  Vmn [mV] I [mA]               R [ohm] Nb samples [-]      x  \\\n",
       "0      0.20137626757438537   0.05     4.027525351487707             20  [-1.]   \n",
       "1      0.15492560367215727   0.05    3.0985120734431453             20  [-1.]   \n",
       "2       0.1612566129218576   0.05     3.225132258437152             20  [-1.]   \n",
       "3      0.14988684412301936   0.05     2.997736882460387             20  [-1.]   \n",
       "4      0.17437736504109558   0.05    3.4875473008219116             20  [-1.]   \n",
       "..                     ...    ...                   ...            ...    ...   \n",
       "235  0.0014650051030034132   0.05  0.029300102060068264             20   [0.]   \n",
       "236    0.02073459384800824   0.05   0.41469187696016474             20   [0.]   \n",
       "237   0.004875815623733477   0.05   0.09751631247466953             20   [0.]   \n",
       "238   0.013882608704171835   0.05    0.2776521740834367             20   [0.]   \n",
       "239   0.004242199081796576   0.05   0.08484398163593151             20   [0.]   \n",
       "\n",
       "          y      z           Rhoa  \\\n",
       "0      [0.]  [0.4]   [67.0320046]   \n",
       "1      [0.]  [0.4]   [67.0320046]   \n",
       "2      [0.]  [0.4]   [67.0320046]   \n",
       "3      [0.]  [0.4]   [67.0320046]   \n",
       "4      [0.]  [0.4]   [67.0320046]   \n",
       "..      ...    ...            ...   \n",
       "235   [-2.]  [0.8]  [44.93289641]   \n",
       "236   [-2.]  [0.8]  [44.93289641]   \n",
       "237  [-2.5]   [1.]  [36.78794412]   \n",
       "238  [-2.5]   [1.]  [36.78794412]   \n",
       "239   [-3.]  [1.2]  [30.11942119]   \n",
       "\n",
       "                                              fulldata  \n",
       "0    [array([0.        , 0.05263158, 0.10526316, 0....  \n",
       "1    [array([0.        , 0.05263158, 0.10526316, 0....  \n",
       "2    [array([0.        , 0.05263158, 0.10526316, 0....  \n",
       "3    [array([0.        , 0.05263158, 0.10526316, 0....  \n",
       "4    [array([0.        , 0.05263158, 0.10526316, 0....  \n",
       "..                                                 ...  \n",
       "235  [array([0.        , 0.05263158, 0.10526316, 0....  \n",
       "236  [array([0.        , 0.05263158, 0.10526316, 0....  \n",
       "237  [array([0.        , 0.05263158, 0.10526316, 0....  \n",
       "238  [array([0.        , 0.05263158, 0.10526316, 0....  \n",
       "239  [array([0.        , 0.05263158, 0.10526316, 0....  \n",
       "\n",
       "[240 rows x 16 columns]"
      ]
     },
     "execution_count": 444,
     "metadata": {},
     "output_type": "execute_result"
    }
   ],
   "source": [
    "pd.DataFrame(read_csv())"
   ]
  },
  {
   "cell_type": "code",
   "execution_count": null,
   "id": "0f1fe46a-5a09-4ff2-aa3c-41070529e6f1",
   "metadata": {},
   "outputs": [],
   "source": []
  }
 ],
 "metadata": {
  "kernelspec": {
   "display_name": "Python 3 (ipykernel)",
   "language": "python",
   "name": "python3"
  },
  "language_info": {
   "codemirror_mode": {
    "name": "ipython",
    "version": 3
   },
   "file_extension": ".py",
   "mimetype": "text/x-python",
   "name": "python",
   "nbconvert_exporter": "python",
   "pygments_lexer": "ipython3",
   "version": "3.9.13"
  }
 },
 "nbformat": 4,
 "nbformat_minor": 5
}
