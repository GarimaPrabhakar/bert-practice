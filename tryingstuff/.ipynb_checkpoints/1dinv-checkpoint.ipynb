{
 "cells": [
  {
   "cell_type": "code",
   "execution_count": 9,
   "id": "034771a6-4bda-4cad-9b15-990c88dcec47",
   "metadata": {},
   "outputs": [],
   "source": [
    "import numpy as np\n",
    "import matplotlib.pyplot as plt\n",
    "\n",
    "import pygimli as pg\n",
    "from pygimli.viewer.mpl import drawModel1D\n",
    "import pandas as pd\n",
    "\n",
    "import sys, os\n",
    "\n",
    "# # Disable\n",
    "# def blockPrint():\n",
    "#     sys.stdout = open(os.devnull, 'w')\n",
    "\n",
    "# # Restore\n",
    "# def enablePrint():\n",
    "#     sys.stdout = sys.__stdout__"
   ]
  },
  {
   "cell_type": "code",
   "execution_count": 10,
   "id": "3dd6fbc3-258a-42a9-8c08-f607b794af83",
   "metadata": {},
   "outputs": [],
   "source": [
    "df = pd.read_csv(\"cowsns.csv\")\n",
    "ab2 = df[\"AB/2 [m]\"]\n",
    "rhoa = df[\"R [rho]\"]"
   ]
  },
  {
   "cell_type": "code",
   "execution_count": 19,
   "id": "93a6a814-2e00-41f8-af53-23be127ded03",
   "metadata": {},
   "outputs": [],
   "source": [
    "# nlay = 20 # number of layers\n",
    "# lam = 200.  # (initial) regularization parameter\n",
    "errPerc = 3.  # relative error of 3 percent=\n",
    "# ab2 = df[\"AB/2 [m]\"]\n",
    "# rhoa = df[\"R [rho]\"]\n",
    "# mn2 = ab2 / 3.  # MN/2 distance (potential electrodes)\n",
    "\n",
    "\n",
    "def invert(nlay, ab2, mn2, lam, rhoa, mscheme=0.5):\n",
    "    print(2*max(rhoa))\n",
    "   \n",
    "    f = pg.core.DC1dModelling(nlay, ab2, mn2)\n",
    "\n",
    "    transThk = pg.trans.TransLog() \n",
    "    transRho = pg.trans.TransLogLU(1, 2*max(rhoa)) \n",
    "    transRhoa = pg.trans.TransLog() \n",
    "\n",
    "    f.region(0).setTransModel(transThk)  \n",
    "    f.region(1).setTransModel(transRho)  \n",
    "\n",
    "    paraDepth = max(ab2) / 3.  # rule-of-thumb for Wenner/Schlumberger\n",
    "    f.region(0).setStartValue(paraDepth / nlay / 2)\n",
    "    f.region(1).setStartValue(np.median(rhoa))\n",
    "\n",
    "    inv = pg.core.Inversion(rhoa, f, transRhoa, True) \n",
    "    inv.setRelativeError(errPerc / 100.0)  \n",
    "    inv.setLambda(lam) \n",
    "    inv.setMarquardtScheme(mscheme)\n",
    "    #help(inv)\n",
    "    print(\"starting lambda value:\", inv.getLambda(), lam)\n",
    "    model = f.createStartVector()  \n",
    "    #model[nlay] *= 1.5\n",
    "    inv.setModel(model)\n",
    "    \n",
    "    model = inv.run()\n",
    "    \n",
    "    res, thk = model[nlay-1:nlay*2-1], model[0:nlay-1]\n",
    "    print('rrms={:.2f}%, chi^2={:.3f}'.format(inv.relrms(), inv.chi2()))\n",
    "\n",
    "    fig, ax = plt.subplots(ncols=2, figsize=(8, 6))  # two-column figure\n",
    "   \n",
    "    drawModel1D(ax[0], thk, res, color='b', label=f\"chi2 = {round(inv.chi2())}\")\n",
    "    ax[0].grid(True, which='both')\n",
    "    ax[0].set_ylabel('z (m)')\n",
    "    ax[0].set_xlabel(r'$\\rho$ ($\\Omega$m)')\n",
    "    ax[0].legend(loc='best')\n",
    "    #ax[0].set_ylim(max(ab2), 0)\n",
    "  \n",
    "    ax[1].loglog(np.array(rhoa).reshape(len(rhoa),1), np.array(ab2).reshape(len(ab2),1), 'rx-', label='measured')\n",
    "    ax[1].loglog(np.array(inv.response()).reshape(len(inv.response()),1), ab2, 'b-', label='fitted')\n",
    "\n",
    "    ax[1].set_ylim((max(ab2), min(ab2)))\n",
    "    ax[1].grid(True, which='both')\n",
    "    ax[1].set_xlabel(r'$\\rho_a$ ($\\Omega$m)')\n",
    "    ax[1].set_ylabel('AB/2 (m)')\n",
    "    ax[1].legend(loc='best')\n",
    "    \n",
    "    fig.suptitle(f\"VES Inversion Best Fit with {nlay} Layers\")\n",
    "    plt.show()\n",
    "    \n",
    "    return model, inv.chi2()\n",
    "\n",
    "#model, chi2 = invert(len(rhoa)+1, ab2, mn2, lam, rhoa, 0.4)"
   ]
  },
  {
   "cell_type": "code",
   "execution_count": 20,
   "id": "80078299-2a87-45b3-a382-fa409c57d7ce",
   "metadata": {},
   "outputs": [
    {
     "data": {
      "text/html": [
       "<div>\n",
       "<style scoped>\n",
       "    .dataframe tbody tr th:only-of-type {\n",
       "        vertical-align: middle;\n",
       "    }\n",
       "\n",
       "    .dataframe tbody tr th {\n",
       "        vertical-align: top;\n",
       "    }\n",
       "\n",
       "    .dataframe thead th {\n",
       "        text-align: right;\n",
       "    }\n",
       "</style>\n",
       "<table border=\"1\" class=\"dataframe\">\n",
       "  <thead>\n",
       "    <tr style=\"text-align: right;\">\n",
       "      <th></th>\n",
       "      <th>AB/2 [m]</th>\n",
       "      <th>R [rho]</th>\n",
       "    </tr>\n",
       "  </thead>\n",
       "  <tbody>\n",
       "    <tr>\n",
       "      <th>0</th>\n",
       "      <td>1.0</td>\n",
       "      <td>888.285323</td>\n",
       "    </tr>\n",
       "    <tr>\n",
       "      <th>1</th>\n",
       "      <td>1.5</td>\n",
       "      <td>1143.539726</td>\n",
       "    </tr>\n",
       "    <tr>\n",
       "      <th>2</th>\n",
       "      <td>2.0</td>\n",
       "      <td>1353.633735</td>\n",
       "    </tr>\n",
       "    <tr>\n",
       "      <th>3</th>\n",
       "      <td>3.0</td>\n",
       "      <td>1621.847207</td>\n",
       "    </tr>\n",
       "    <tr>\n",
       "      <th>4</th>\n",
       "      <td>4.0</td>\n",
       "      <td>1608.102740</td>\n",
       "    </tr>\n",
       "    <tr>\n",
       "      <th>5</th>\n",
       "      <td>5.0</td>\n",
       "      <td>1611.849089</td>\n",
       "    </tr>\n",
       "    <tr>\n",
       "      <th>6</th>\n",
       "      <td>6.0</td>\n",
       "      <td>1306.187832</td>\n",
       "    </tr>\n",
       "    <tr>\n",
       "      <th>7</th>\n",
       "      <td>7.0</td>\n",
       "      <td>1101.167495</td>\n",
       "    </tr>\n",
       "    <tr>\n",
       "      <th>8</th>\n",
       "      <td>8.0</td>\n",
       "      <td>941.299699</td>\n",
       "    </tr>\n",
       "    <tr>\n",
       "      <th>9</th>\n",
       "      <td>9.0</td>\n",
       "      <td>816.861214</td>\n",
       "    </tr>\n",
       "    <tr>\n",
       "      <th>10</th>\n",
       "      <td>10.0</td>\n",
       "      <td>460.659585</td>\n",
       "    </tr>\n",
       "    <tr>\n",
       "      <th>11</th>\n",
       "      <td>11.0</td>\n",
       "      <td>398.314679</td>\n",
       "    </tr>\n",
       "  </tbody>\n",
       "</table>\n",
       "</div>"
      ],
      "text/plain": [
       "    AB/2 [m]      R [rho]\n",
       "0        1.0   888.285323\n",
       "1        1.5  1143.539726\n",
       "2        2.0  1353.633735\n",
       "3        3.0  1621.847207\n",
       "4        4.0  1608.102740\n",
       "5        5.0  1611.849089\n",
       "6        6.0  1306.187832\n",
       "7        7.0  1101.167495\n",
       "8        8.0   941.299699\n",
       "9        9.0   816.861214\n",
       "10      10.0   460.659585\n",
       "11      11.0   398.314679"
      ]
     },
     "execution_count": 20,
     "metadata": {},
     "output_type": "execute_result"
    }
   ],
   "source": [
    "df"
   ]
  },
  {
   "cell_type": "code",
   "execution_count": null,
   "id": "fb5e7a86-d0cb-49ec-907e-0d5192c1641d",
   "metadata": {},
   "outputs": [],
   "source": []
  },
  {
   "cell_type": "code",
   "execution_count": 21,
   "id": "3ae0c1ff-61a7-493b-9d7d-78bce917cbf9",
   "metadata": {},
   "outputs": [],
   "source": [
    "# Load the rest of the data\n",
    "\n",
    "import csv\n",
    "\n",
    "rows = []\n",
    "with open('cowsjackpot.csv', newline='') as csvfile:\n",
    "     spamreader = csv.reader(csvfile, delimiter=' ', quotechar='|')\n",
    "     for row in spamreader:\n",
    "         rows.append(', '.join(row))"
   ]
  },
  {
   "cell_type": "code",
   "execution_count": 22,
   "id": "48fc4729-223b-4198-bcc9-8b117546950a",
   "metadata": {},
   "outputs": [],
   "source": [
    "import io\n",
    "colnames=[\"N\", \"a\", \"n\", \"ab2\", \"r\", \"rhoa\", \"sigma\"] \n",
    "dcowsns = pd.read_csv(io.StringIO('\\n'.join(rows[2:14])), names=colnames)\n",
    "dcowses = pd.read_csv(io.StringIO('\\n'.join(rows[18:30])), names=colnames)\n",
    "mcowsns = pd.read_csv(io.StringIO('\\n'.join(rows[34:47])), names=colnames)\n",
    "\n",
    "djackns = pd.read_csv(io.StringIO('\\n'.join(rows[51:64])), names=colnames)\n",
    "mjackns = pd.read_csv(io.StringIO('\\n'.join(rows[68:])), names=colnames)"
   ]
  },
  {
   "cell_type": "code",
   "execution_count": 23,
   "id": "6ebece8a-fd19-4dee-8e15-a59c1ad09d6c",
   "metadata": {},
   "outputs": [
    {
     "data": {
      "text/plain": [
       "0      1.0\n",
       "1      1.5\n",
       "2      2.0\n",
       "3      3.0\n",
       "4      4.0\n",
       "5      5.0\n",
       "6      6.0\n",
       "7      7.0\n",
       "8      8.0\n",
       "9      9.0\n",
       "10    10.0\n",
       "11    11.0\n",
       "Name: ab2, dtype: float64"
      ]
     },
     "execution_count": 23,
     "metadata": {},
     "output_type": "execute_result"
    }
   ],
   "source": [
    "# Try to find the best fit for each dataset seperately and then average the dipole for cows and repeat.\n",
    "mjackns\n",
    "np.zeros(ab2.shape) + 0.5\n",
    "ab2"
   ]
  },
  {
   "cell_type": "code",
   "execution_count": 24,
   "id": "6679f9c3-7e8f-4d8e-ac1f-2dee796281ab",
   "metadata": {},
   "outputs": [
    {
     "name": "stderr",
     "output_type": "stream",
     "text": [
      "/opt/anaconda3/conda-bld/pgcore_1645178403028/work/gimli/core/src/regionManager.h:182\t\tvoid GIMLI::Region::setStartValue(double)  is deprecated \n",
      "/opt/anaconda3/conda-bld/pgcore_1645178403028/work/gimli/core/src/regionManager.h:182\t\tvoid GIMLI::Region::setStartValue(double)  is deprecated \n",
      "/opt/anaconda3/conda-bld/pgcore_1645178403028/work/gimli/core/src/modellingbase.cpp:523\t\tGIMLI::RVector GIMLI::ModellingBase::createStartVector()  is deprecated \n"
     ]
    },
    {
     "data": {
      "image/png": "[encoded data removed]",
      "text/plain": [
       "<Figure size 800x600 with 2 Axes>"
      ]
     },
     "metadata": {},
     "output_type": "display_data"
    },
    {
     "data": {
      "text/html": [
       "<div>\n",
       "<style scoped>\n",
       "    .dataframe tbody tr th:only-of-type {\n",
       "        vertical-align: middle;\n",
       "    }\n",
       "\n",
       "    .dataframe tbody tr th {\n",
       "        vertical-align: top;\n",
       "    }\n",
       "\n",
       "    .dataframe thead th {\n",
       "        text-align: right;\n",
       "    }\n",
       "</style>\n",
       "<table border=\"1\" class=\"dataframe\">\n",
       "  <thead>\n",
       "    <tr style=\"text-align: right;\">\n",
       "      <th></th>\n",
       "      <th>Resistivity (Ohm*m)</th>\n",
       "      <th>Conductivity (S/m)</th>\n",
       "      <th>Thickness (m)</th>\n",
       "    </tr>\n",
       "  </thead>\n",
       "  <tbody>\n",
       "    <tr>\n",
       "      <th>0</th>\n",
       "      <td>24.084605</td>\n",
       "      <td>0.041520</td>\n",
       "      <td>3.308451</td>\n",
       "    </tr>\n",
       "    <tr>\n",
       "      <th>1</th>\n",
       "      <td>1.627873</td>\n",
       "      <td>0.614299</td>\n",
       "      <td>inf</td>\n",
       "    </tr>\n",
       "  </tbody>\n",
       "</table>\n",
       "</div>"
      ],
      "text/plain": [
       "   Resistivity (Ohm*m)  Conductivity (S/m)  Thickness (m)\n",
       "0            24.084605            0.041520       3.308451\n",
       "1             1.627873            0.614299            inf"
      ]
     },
     "execution_count": 24,
     "metadata": {},
     "output_type": "execute_result"
    }
   ],
   "source": [
    "df2 = mjackns\n",
    "\n",
    "print(ab2)\n",
    "ab2 = df2[\"ab2\"][:-1]\n",
    "mn2 = np.zeros(ab2.shape) + 0.5\n",
    "rhoa = df2[\"rhoa\"][:-1]\n",
    "\n",
    "nlay = 2\n",
    "\n",
    "model, chi2 = invert(nlay, ab2, mn2, 200, rhoa, 0.9)\n",
    "res, thk = model[nlay-1:nlay*2-1], list(model[0:nlay-1])\n",
    "thk.append(np.inf)\n",
    "layers = pd.DataFrame({\"Resistivity (Ohm*m)\": res, \"Conductivity (S/m)\": 1/res, \"Thickness (m)\": thk})\n",
    "layers"
   ]
  },
  {
   "cell_type": "code",
   "execution_count": 25,
   "id": "ba345263-7901-4c8b-88cc-ecee58f8694a",
   "metadata": {},
   "outputs": [],
   "source": [
    "n = df2[\"n\"]\n",
    "a = df2[\"a\"]"
   ]
  },
  {
   "cell_type": "code",
   "execution_count": 26,
   "id": "a715a4cd-c45c-4333-b391-e8caac2cff2d",
   "metadata": {},
   "outputs": [],
   "source": [
    "mx = -a/2\n",
    "my = 0\n",
    "\n",
    "nx = a/2\n",
    "ny = 0\n",
    "\n",
    "ax = -(n+1/2)*a\n",
    "ay = 0\n",
    "\n",
    "bx = (n+1/2)*a\n",
    "by = 0"
   ]
  },
  {
   "cell_type": "code",
   "execution_count": 27,
   "id": "e01e9e26-6d8d-45a5-8261-c60199ff82ea",
   "metadata": {},
   "outputs": [],
   "source": [
    "k = 2*np.pi/(((ax-mx)**2 + (ay-my)**2)**-0.5 - ((bx-mx)**2 + (by-my)**2)**-0.5 - ((ax-nx)**2 + (ay-ny)**2)**-0.5 + ((bx-nx)**2 + (by-ny)**2)**-0.5)"
   ]
  },
  {
   "cell_type": "code",
   "execution_count": 28,
   "id": "78a1728b-12cc-4958-b868-dedeaf6458a7",
   "metadata": {},
   "outputs": [],
   "source": [
    "AB2 = abs((ax-bx)/2)\n",
    "MN2 = abs((mx-nx)/2)"
   ]
  },
  {
   "cell_type": "code",
   "execution_count": 29,
   "id": "4d0e8805-9462-471f-932f-684e78370ff2",
   "metadata": {},
   "outputs": [
    {
     "data": {
      "text/plain": [
       "0     24.080308\n",
       "1     25.069909\n",
       "2     24.150994\n",
       "3     21.166481\n",
       "4     17.318030\n",
       "5     14.773339\n",
       "6     13.477432\n",
       "7     10.720685\n",
       "8     10.013827\n",
       "9      7.610508\n",
       "10     6.267477\n",
       "11     3.793473\n",
       "12     4.516039\n",
       "dtype: float64"
      ]
     },
     "execution_count": 29,
     "metadata": {},
     "output_type": "execute_result"
    }
   ],
   "source": [
    "k*df2[\"r\"]"
   ]
  },
  {
   "cell_type": "code",
   "execution_count": 30,
   "id": "0a77e55f-c3b0-48db-b6e6-90f510530cdf",
   "metadata": {},
   "outputs": [
    {
     "data": {
      "text/plain": [
       "0     24.080308\n",
       "1     25.069909\n",
       "2     24.150994\n",
       "3     21.166480\n",
       "4     17.318030\n",
       "5     14.773339\n",
       "6     13.477432\n",
       "7     10.720685\n",
       "8     10.013827\n",
       "9      7.610508\n",
       "10     6.267477\n",
       "11     3.793473\n",
       "12     4.516039\n",
       "Name: rhoa, dtype: float64"
      ]
     },
     "execution_count": 30,
     "metadata": {},
     "output_type": "execute_result"
    }
   ],
   "source": [
    "df2[\"rhoa\"]"
   ]
  },
  {
   "cell_type": "code",
   "execution_count": 31,
   "id": "6a4f5718-0364-4bc3-83ff-e62ce7e645f2",
   "metadata": {},
   "outputs": [
    {
     "data": {
      "text/plain": [
       "0       2.356194\n",
       "1       6.283185\n",
       "2      11.780972\n",
       "3      27.488936\n",
       "4      49.480084\n",
       "5      77.754418\n",
       "6     112.311937\n",
       "7     153.152642\n",
       "8     200.276532\n",
       "9     253.683607\n",
       "10    313.373867\n",
       "11    379.347313\n",
       "12    451.603944\n",
       "dtype: float64"
      ]
     },
     "execution_count": 31,
     "metadata": {},
     "output_type": "execute_result"
    }
   ],
   "source": [
    "k"
   ]
  },
  {
   "cell_type": "code",
   "execution_count": 32,
   "id": "75809895-06e5-4a8d-af69-756a4cc42624",
   "metadata": {},
   "outputs": [
    {
     "data": {
      "text/plain": [
       "0       2.356125\n",
       "1       6.283000\n",
       "2      11.780625\n",
       "3      27.488125\n",
       "4      49.478625\n",
       "5      77.752125\n",
       "6     112.308625\n",
       "7     153.148125\n",
       "8     200.270625\n",
       "9     253.676125\n",
       "10    313.364625\n",
       "11    379.336125\n",
       "12    451.590625\n",
       "dtype: float64"
      ]
     },
     "execution_count": 32,
     "metadata": {},
     "output_type": "execute_result"
    }
   ],
   "source": [
    "3.1415*df2[\"a\"]*df2[\"n\"]*(df2[\"n\"]+1)"
   ]
  },
  {
   "cell_type": "code",
   "execution_count": 33,
   "id": "149da801-ae33-40b2-80be-a3c4c86898d5",
   "metadata": {},
   "outputs": [
    {
     "data": {
      "text/plain": [
       "0        0.000\n",
       "1       18.849\n",
       "2       50.264\n",
       "3      150.792\n",
       "4      301.584\n",
       "5      502.640\n",
       "6      753.960\n",
       "7     1055.544\n",
       "8     1407.392\n",
       "9     1809.504\n",
       "10    2261.880\n",
       "11    2764.520\n",
       "12    3317.424\n",
       "dtype: float64"
      ]
     },
     "execution_count": 33,
     "metadata": {},
     "output_type": "execute_result"
    }
   ],
   "source": [
    "k = 3.1415*2*(n**2 - 1 + (n**2/a**2)*(2*a+1))\n",
    "k"
   ]
  },
  {
   "cell_type": "code",
   "execution_count": 34,
   "id": "c624fbae-601a-41f9-8cc2-b7bfe579e1ae",
   "metadata": {},
   "outputs": [
    {
     "name": "stderr",
     "output_type": "stream",
     "text": [
      "/opt/anaconda3/conda-bld/pgcore_1645178403028/work/gimli/core/src/regionManager.h:182\t\tvoid GIMLI::Region::setStartValue(double)  is deprecated \n",
      "/opt/anaconda3/conda-bld/pgcore_1645178403028/work/gimli/core/src/regionManager.h:182\t\tvoid GIMLI::Region::setStartValue(double)  is deprecated \n",
      "/opt/anaconda3/conda-bld/pgcore_1645178403028/work/gimli/core/src/modellingbase.cpp:523\t\tGIMLI::RVector GIMLI::ModellingBase::createStartVector()  is deprecated \n"
     ]
    },
    {
     "data": {
      "image/png": "[encoded data removed]",
      "text/plain": [
       "<Figure size 800x600 with 2 Axes>"
      ]
     },
     "metadata": {},
     "output_type": "display_data"
    },
    {
     "data": {
      "text/html": [
       "<div>\n",
       "<style scoped>\n",
       "    .dataframe tbody tr th:only-of-type {\n",
       "        vertical-align: middle;\n",
       "    }\n",
       "\n",
       "    .dataframe tbody tr th {\n",
       "        vertical-align: top;\n",
       "    }\n",
       "\n",
       "    .dataframe thead th {\n",
       "        text-align: right;\n",
       "    }\n",
       "</style>\n",
       "<table border=\"1\" class=\"dataframe\">\n",
       "  <thead>\n",
       "    <tr style=\"text-align: right;\">\n",
       "      <th></th>\n",
       "      <th>Resistivity (Ohm*m)</th>\n",
       "      <th>Conductivity (S/m)</th>\n",
       "      <th>Thickness (m)</th>\n",
       "    </tr>\n",
       "  </thead>\n",
       "  <tbody>\n",
       "    <tr>\n",
       "      <th>0</th>\n",
       "      <td>144.155795</td>\n",
       "      <td>0.006937</td>\n",
       "      <td>0.268788</td>\n",
       "    </tr>\n",
       "    <tr>\n",
       "      <th>1</th>\n",
       "      <td>823.648967</td>\n",
       "      <td>0.001214</td>\n",
       "      <td>0.793387</td>\n",
       "    </tr>\n",
       "    <tr>\n",
       "      <th>2</th>\n",
       "      <td>827.270927</td>\n",
       "      <td>0.001209</td>\n",
       "      <td>1.248039</td>\n",
       "    </tr>\n",
       "    <tr>\n",
       "      <th>3</th>\n",
       "      <td>17.907315</td>\n",
       "      <td>0.055843</td>\n",
       "      <td>inf</td>\n",
       "    </tr>\n",
       "  </tbody>\n",
       "</table>\n",
       "</div>"
      ],
      "text/plain": [
       "   Resistivity (Ohm*m)  Conductivity (S/m)  Thickness (m)\n",
       "0           144.155795            0.006937       0.268788\n",
       "1           823.648967            0.001214       0.793387\n",
       "2           827.270927            0.001209       1.248039\n",
       "3            17.907315            0.055843            inf"
      ]
     },
     "execution_count": 34,
     "metadata": {},
     "output_type": "execute_result"
    }
   ],
   "source": [
    "df2 = dcowsns\n",
    "ab2 = df2[\"ab2\"][:-3]\n",
    "mn2 = np.zeros(ab2.shape) + 0.5\n",
    "rhoa = df2[\"rhoa\"][:-3]\n",
    "\n",
    "nlay = 4\n",
    "\n",
    "model, chi2 = invert(nlay, ab2, mn2, 200, rhoa, 0.9)\n",
    "res, thk = model[nlay-1:nlay*2-1], list(model[0:nlay-1])\n",
    "thk.append(np.inf)\n",
    "layers = pd.DataFrame({\"Resistivity (Ohm*m)\": res, \"Conductivity (S/m)\": 1/res, \"Thickness (m)\": thk})\n",
    "layers"
   ]
  },
  {
   "cell_type": "code",
   "execution_count": 35,
   "id": "dffe1eb5-2b46-47d9-84b8-ddc3263af093",
   "metadata": {},
   "outputs": [
    {
     "data": {
      "text/html": [
       "<div>\n",
       "<style scoped>\n",
       "    .dataframe tbody tr th:only-of-type {\n",
       "        vertical-align: middle;\n",
       "    }\n",
       "\n",
       "    .dataframe tbody tr th {\n",
       "        vertical-align: top;\n",
       "    }\n",
       "\n",
       "    .dataframe thead th {\n",
       "        text-align: right;\n",
       "    }\n",
       "</style>\n",
       "<table border=\"1\" class=\"dataframe\">\n",
       "  <thead>\n",
       "    <tr style=\"text-align: right;\">\n",
       "      <th></th>\n",
       "      <th>N</th>\n",
       "      <th>a</th>\n",
       "      <th>n</th>\n",
       "      <th>ab2</th>\n",
       "      <th>r</th>\n",
       "      <th>rhoa</th>\n",
       "      <th>sigma</th>\n",
       "    </tr>\n",
       "  </thead>\n",
       "  <tbody>\n",
       "    <tr>\n",
       "      <th>0</th>\n",
       "      <td>1</td>\n",
       "      <td>1</td>\n",
       "      <td>0.5</td>\n",
       "      <td>1.0</td>\n",
       "      <td>128.40</td>\n",
       "      <td>302.535372</td>\n",
       "      <td>0.003305</td>\n",
       "    </tr>\n",
       "    <tr>\n",
       "      <th>1</th>\n",
       "      <td>2</td>\n",
       "      <td>1</td>\n",
       "      <td>1.0</td>\n",
       "      <td>1.5</td>\n",
       "      <td>62.40</td>\n",
       "      <td>392.070763</td>\n",
       "      <td>0.002551</td>\n",
       "    </tr>\n",
       "    <tr>\n",
       "      <th>2</th>\n",
       "      <td>3</td>\n",
       "      <td>1</td>\n",
       "      <td>1.5</td>\n",
       "      <td>2.0</td>\n",
       "      <td>37.40</td>\n",
       "      <td>440.608370</td>\n",
       "      <td>0.002270</td>\n",
       "    </tr>\n",
       "    <tr>\n",
       "      <th>3</th>\n",
       "      <td>4</td>\n",
       "      <td>1</td>\n",
       "      <td>2.5</td>\n",
       "      <td>3.0</td>\n",
       "      <td>17.78</td>\n",
       "      <td>488.753277</td>\n",
       "      <td>0.002046</td>\n",
       "    </tr>\n",
       "    <tr>\n",
       "      <th>4</th>\n",
       "      <td>5</td>\n",
       "      <td>1</td>\n",
       "      <td>3.5</td>\n",
       "      <td>4.0</td>\n",
       "      <td>9.91</td>\n",
       "      <td>490.347635</td>\n",
       "      <td>0.002039</td>\n",
       "    </tr>\n",
       "    <tr>\n",
       "      <th>5</th>\n",
       "      <td>6</td>\n",
       "      <td>1</td>\n",
       "      <td>4.5</td>\n",
       "      <td>5.0</td>\n",
       "      <td>5.55</td>\n",
       "      <td>431.537021</td>\n",
       "      <td>0.002317</td>\n",
       "    </tr>\n",
       "    <tr>\n",
       "      <th>6</th>\n",
       "      <td>7</td>\n",
       "      <td>1</td>\n",
       "      <td>5.5</td>\n",
       "      <td>6.0</td>\n",
       "      <td>3.48</td>\n",
       "      <td>390.845542</td>\n",
       "      <td>0.002559</td>\n",
       "    </tr>\n",
       "    <tr>\n",
       "      <th>7</th>\n",
       "      <td>8</td>\n",
       "      <td>1</td>\n",
       "      <td>6.5</td>\n",
       "      <td>7.0</td>\n",
       "      <td>1.51</td>\n",
       "      <td>231.260489</td>\n",
       "      <td>0.004324</td>\n",
       "    </tr>\n",
       "    <tr>\n",
       "      <th>8</th>\n",
       "      <td>9</td>\n",
       "      <td>1</td>\n",
       "      <td>7.5</td>\n",
       "      <td>8.0</td>\n",
       "      <td>0.98</td>\n",
       "      <td>196.271001</td>\n",
       "      <td>0.005095</td>\n",
       "    </tr>\n",
       "    <tr>\n",
       "      <th>9</th>\n",
       "      <td>10</td>\n",
       "      <td>1</td>\n",
       "      <td>8.5</td>\n",
       "      <td>9.0</td>\n",
       "      <td>0.41</td>\n",
       "      <td>104.010279</td>\n",
       "      <td>0.009614</td>\n",
       "    </tr>\n",
       "  </tbody>\n",
       "</table>\n",
       "</div>"
      ],
      "text/plain": [
       "    N  a    n  ab2       r        rhoa     sigma\n",
       "0   1  1  0.5  1.0  128.40  302.535372  0.003305\n",
       "1   2  1  1.0  1.5   62.40  392.070763  0.002551\n",
       "2   3  1  1.5  2.0   37.40  440.608370  0.002270\n",
       "3   4  1  2.5  3.0   17.78  488.753277  0.002046\n",
       "4   5  1  3.5  4.0    9.91  490.347635  0.002039\n",
       "5   6  1  4.5  5.0    5.55  431.537021  0.002317\n",
       "6   7  1  5.5  6.0    3.48  390.845542  0.002559\n",
       "7   8  1  6.5  7.0    1.51  231.260489  0.004324\n",
       "8   9  1  7.5  8.0    0.98  196.271001  0.005095\n",
       "9  10  1  8.5  9.0    0.41  104.010279  0.009614"
      ]
     },
     "execution_count": 35,
     "metadata": {},
     "output_type": "execute_result"
    }
   ],
   "source": [
    "dcowsns[:-2]"
   ]
  },
  {
   "cell_type": "markdown",
   "id": "9518d636-4516-4218-8d59-2f3795ef629f",
   "metadata": {},
   "source": [
    "I want to see if I can fit one of the datasets for a resistance added in series.\n",
    "I'm going to use scipy's curve_fit using n as the independent variable, apparent \n",
    "resistivity as the dependent variable, and the lead resistance an soil resistance as \n",
    "fitting parameters. I'm going to use one the datsets where I'm pretty sure that the soil fit best\n",
    "with one layer accoridng to my initial fits and ian's results."
   ]
  },
  {
   "cell_type": "code",
   "execution_count": 42,
   "id": "976e8e47-147e-41f7-985d-65869e5d8205",
   "metadata": {},
   "outputs": [],
   "source": [
    "import pickle\n",
    "\n",
    "with open(f\"pickled_fit\", 'rb') as file:\n",
    "    popt = pickle.load(file)"
   ]
  },
  {
   "cell_type": "code",
   "execution_count": 44,
   "id": "24537c99-cf9b-495f-8ed6-869247516fed",
   "metadata": {},
   "outputs": [
    {
     "name": "stderr",
     "output_type": "stream",
     "text": [
      "/opt/anaconda3/conda-bld/pgcore_1645178403028/work/gimli/core/src/regionManager.h:182\t\tvoid GIMLI::Region::setStartValue(double)  is deprecated \n",
      "/opt/anaconda3/conda-bld/pgcore_1645178403028/work/gimli/core/src/regionManager.h:182\t\tvoid GIMLI::Region::setStartValue(double)  is deprecated \n",
      "/opt/anaconda3/conda-bld/pgcore_1645178403028/work/gimli/core/src/modellingbase.cpp:523\t\tGIMLI::RVector GIMLI::ModellingBase::createStartVector()  is deprecated \n"
     ]
    },
    {
     "data": {
      "image/png": "[encoded data removed]",
      "text/plain": [
       "<Figure size 800x600 with 2 Axes>"
      ]
     },
     "metadata": {},
     "output_type": "display_data"
    },
    {
     "data": {
      "text/html": [
       "<div>\n",
       "<style scoped>\n",
       "    .dataframe tbody tr th:only-of-type {\n",
       "        vertical-align: middle;\n",
       "    }\n",
       "\n",
       "    .dataframe tbody tr th {\n",
       "        vertical-align: top;\n",
       "    }\n",
       "\n",
       "    .dataframe thead th {\n",
       "        text-align: right;\n",
       "    }\n",
       "</style>\n",
       "<table border=\"1\" class=\"dataframe\">\n",
       "  <thead>\n",
       "    <tr style=\"text-align: right;\">\n",
       "      <th></th>\n",
       "      <th>Resistivity (Ohm*m)</th>\n",
       "      <th>Conductivity (S/m)</th>\n",
       "      <th>Thickness (m)</th>\n",
       "    </tr>\n",
       "  </thead>\n",
       "  <tbody>\n",
       "    <tr>\n",
       "      <th>0</th>\n",
       "      <td>24.728043</td>\n",
       "      <td>0.040440</td>\n",
       "      <td>0.829055</td>\n",
       "    </tr>\n",
       "    <tr>\n",
       "      <th>1</th>\n",
       "      <td>25.465841</td>\n",
       "      <td>0.039268</td>\n",
       "      <td>0.870839</td>\n",
       "    </tr>\n",
       "    <tr>\n",
       "      <th>2</th>\n",
       "      <td>26.788978</td>\n",
       "      <td>0.037329</td>\n",
       "      <td>0.753259</td>\n",
       "    </tr>\n",
       "    <tr>\n",
       "      <th>3</th>\n",
       "      <td>5.206285</td>\n",
       "      <td>0.192076</td>\n",
       "      <td>inf</td>\n",
       "    </tr>\n",
       "  </tbody>\n",
       "</table>\n",
       "</div>"
      ],
      "text/plain": [
       "   Resistivity (Ohm*m)  Conductivity (S/m)  Thickness (m)\n",
       "0            24.728043            0.040440       0.829055\n",
       "1            25.465841            0.039268       0.870839\n",
       "2            26.788978            0.037329       0.753259\n",
       "3             5.206285            0.192076            inf"
      ]
     },
     "execution_count": 44,
     "metadata": {},
     "output_type": "execute_result"
    }
   ],
   "source": [
    "df2 = mjackns\n",
    "ab2 = df2[\"ab2\"][:-3]\n",
    "mn2 = np.zeros(ab2.shape) + 0.5\n",
    "rhoa = (df2[\"r\"][:-3] - popt[1])\n",
    "\n",
    "nlay = 4\n",
    "\n",
    "model, chi2 = invert(nlay, ab2, mn2, 200, rhoa, 0.9)\n",
    "res, thk = model[nlay-1:nlay*2-1], list(model[0:nlay-1])\n",
    "thk.append(np.inf)\n",
    "layers = pd.DataFrame({\"Resistivity (Ohm*m)\": res, \"Conductivity (S/m)\": 1/res, \"Thickness (m)\": thk})\n",
    "layers"
   ]
  },
  {
   "cell_type": "code",
   "execution_count": null,
   "id": "a12afe1e-63bd-4a63-abb6-bb468ec0fceb",
   "metadata": {},
   "outputs": [],
   "source": []
  }
 ],
 "metadata": {
  "kernelspec": {
   "display_name": "Python 3 (ipykernel)",
   "language": "python",
   "name": "python3"
  },
  "language_info": {
   "codemirror_mode": {
    "name": "ipython",
    "version": 3
   },
   "file_extension": ".py",
   "mimetype": "text/x-python",
   "name": "python",
   "nbconvert_exporter": "python",
   "pygments_lexer": "ipython3",
   "version": "3.9.13"
  }
 },
 "nbformat": 4,
 "nbformat_minor": 5
}
