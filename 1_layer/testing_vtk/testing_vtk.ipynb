{
 "cells": [
  {
   "cell_type": "code",
   "execution_count": 141,
   "id": "59aa0a1d-d790-46d5-b5ec-b3e78915fcbf",
   "metadata": {},
   "outputs": [],
   "source": [
    "import numpy as np\n",
    "import matplotlib.pyplot as plt\n",
    "import mpl_toolkits.mplot3d as m3d\n",
    "import vtk\n",
    "from vtk.util.numpy_support import vtk_to_numpy, numpy_to_vtk\n",
    "\n",
    "# import redirc\n",
    "\n",
    "%matplotlib inline\n",
    "\n",
    "# @redirc.print_stdout_stderr\n",
    "def read_vtk_file(filename):\n",
    "    # Open file and read unstructured grid.\n",
    "    reader = vtk.vtkUnstructuredGridReader()\n",
    "    reader.SetFileName(filename)\n",
    "    reader.Update()\n",
    "    grid = reader.GetOutput()\n",
    "    \n",
    "    # Read points.\n",
    "    vtk_points = grid.GetPoints()\n",
    "    xyz3d = vtk_to_numpy( vtk_points.GetData() )\n",
    "    #print(grid)\n",
    "    # Read cells.\n",
    "    cells = vtk_to_numpy( grid.GetCells().GetData() )\n",
    "    cell_locations = vtk_to_numpy( grid.GetCellLocationsArray() )\n",
    "    cell_types = vtk_to_numpy( grid.GetCellTypesArray() )\n",
    "    \n",
    "    return xyz3d, cells, cell_locations, cell_types\n",
    "\n",
    "filename = 'test.vtk'\n",
    "xyz3d_, cells_, cell_locations_, cell_types_ = read_vtk_file(filename)"
   ]
  },
  {
   "cell_type": "code",
   "execution_count": 142,
   "id": "22459d74-9044-416a-bff8-a40787bd23a1",
   "metadata": {},
   "outputs": [
    {
     "data": {
      "text/plain": [
       "(array([[  2.05609859,  -5.04685482,  -6.53584266],\n",
       "        [  2.95249645, -11.        ,  -9.07161668],\n",
       "        [  6.61867976,  -6.08596723, -10.13942747],\n",
       "        ...,\n",
       "        [  5.5       , -11.        , -14.2043    ],\n",
       "        [-11.        ,   0.        ,   0.        ],\n",
       "        [ -8.75      , -11.        ,   0.        ]]),\n",
       " array([  4,   0,   1, ..., 199,  33,  35]),\n",
       " array([   0,    4,    8, ..., 6224, 6228, 6232]),\n",
       " array([10, 10, 10, ..., 10, 10, 10], dtype=uint8))"
      ]
     },
     "execution_count": 142,
     "metadata": {},
     "output_type": "execute_result"
    }
   ],
   "source": [
    "read_vtk_file(filename)  "
   ]
  },
  {
   "cell_type": "code",
   "execution_count": 143,
   "id": "adc5f545-8cfc-401a-b27d-89331acf95bd",
   "metadata": {},
   "outputs": [
    {
     "data": {
      "text/plain": [
       "(488, 3)"
      ]
     },
     "execution_count": 143,
     "metadata": {},
     "output_type": "execute_result"
    }
   ],
   "source": [
    "np.shape(xyz3d_)"
   ]
  },
  {
   "cell_type": "code",
   "execution_count": 144,
   "id": "19e197b6-6229-4b82-98d4-02dd6b74aed8",
   "metadata": {},
   "outputs": [
    {
     "data": {
      "text/plain": [
       "(1559,)"
      ]
     },
     "execution_count": 144,
     "metadata": {},
     "output_type": "execute_result"
    }
   ],
   "source": [
    "np.shape(cell_types_)"
   ]
  },
  {
   "cell_type": "code",
   "execution_count": 145,
   "id": "6273f014-a922-40a5-8990-ffeb6c89e76e",
   "metadata": {},
   "outputs": [],
   "source": [
    "    reader = vtk.vtkUnstructuredGridReader()\n",
    "    reader.SetFileName(filename)\n",
    "    reader.Update()\n",
    "    grid = reader.GetOutput()\n",
    "    \n",
    "    # Read points.\n",
    "    vtk_points = grid.GetPoints()\n",
    "    xyz3d = vtk_to_numpy( vtk_points.GetData() )\n",
    "    #print(grid)\n",
    "    # Read cells.\n",
    "    cells = vtk_to_numpy( grid.GetCells().GetData() )\n",
    "    cell_locations = vtk_to_numpy( grid.GetCellLocationsArray() )\n",
    "    cell_types = vtk_to_numpy( grid.GetCellTypesArray() )"
   ]
  },
  {
   "cell_type": "code",
   "execution_count": 146,
   "id": "03d08b5a-43db-42d9-afcd-922552cab9fd",
   "metadata": {},
   "outputs": [],
   "source": [
    "c2p = vtk.vtkCellDataToPointData()\n",
    "c2p.SetInputData(grid)\n",
    "c2p.Update()\n",
    "ptdata = c2p.GetOutput()"
   ]
  },
  {
   "cell_type": "code",
   "execution_count": 147,
   "id": "a6cc375a-b0b7-4107-8686-2a03edd0ab3c",
   "metadata": {},
   "outputs": [],
   "source": [
    "    vtk_points = ptdata.GetPoints()\n",
    "    xyz3d = vtk_to_numpy( vtk_points.GetData() )"
   ]
  },
  {
   "cell_type": "code",
   "execution_count": 148,
   "id": "ed6887d4-a314-41b9-b9bd-664768d61e84",
   "metadata": {},
   "outputs": [
    {
     "data": {
      "text/plain": [
       "(488, 3)"
      ]
     },
     "execution_count": 148,
     "metadata": {},
     "output_type": "execute_result"
    }
   ],
   "source": [
    "np.shape(xyz3d)"
   ]
  },
  {
   "cell_type": "code",
   "execution_count": 149,
   "id": "34330113-9d03-4f05-841e-fbf95a05c1a6",
   "metadata": {},
   "outputs": [
    {
     "data": {
      "text/plain": [
       "<vtkmodules.vtkCommonDataModel.vtkUnstructuredGrid(0x7f9e5ff68d80) at 0x172e27340>"
      ]
     },
     "execution_count": 149,
     "metadata": {},
     "output_type": "execute_result"
    }
   ],
   "source": [
    "ptdata"
   ]
  },
  {
   "cell_type": "code",
   "execution_count": 150,
   "id": "2b5fc336-d815-460d-a9ca-71b89e5a93e8",
   "metadata": {},
   "outputs": [],
   "source": [
    "import vtk\n",
    "import csv\n",
    "\n",
    "fileIn  = 'myPoints.vtk'\n",
    "fileOut  = 'myTable.csv'\n",
    "\n",
    "# reader = vtk.vtkGenericDataObjectReader()\n",
    "# reader.SetFileName(fileIn)\n",
    "# reader.Update()\n",
    "\n",
    "#point_obj = reader.GetOutput()\n",
    "\n",
    "point_obj = ptdata\n",
    "points = [(point_obj.GetPoint(i)[0], point_obj.GetPoint(i)[1], point_obj.GetPoint(i)[2], 0) for i in range(int(point_obj.GetNumberOfPoints()))]\n",
    "with open(fileOut, 'w') as csvfileout:\n",
    "    writer = csv.writer(csvfileout)\n",
    "    writer.writerows(points)\n",
    "    "
   ]
  },
  {
   "cell_type": "code",
   "execution_count": 151,
   "id": "4a1860a4-6317-43f9-8c6b-37b61a76773b",
   "metadata": {},
   "outputs": [],
   "source": [
    "point_obj = ptdata.GetAttributesAsFieldData(0)\n",
    "cells = vtk_to_numpy( ptdata.GetCells().GetData() )"
   ]
  },
  {
   "cell_type": "code",
   "execution_count": 152,
   "id": "1073016e-4bcb-4777-a271-ae807a009e64",
   "metadata": {},
   "outputs": [
    {
     "data": {
      "text/plain": [
       "(array([[  2.05609859,  -5.04685482,  -6.53584266],\n",
       "        [  2.95249645, -11.        ,  -9.07161668],\n",
       "        [  6.61867976,  -6.08596723, -10.13942747],\n",
       "        ...,\n",
       "        [  5.5       , -11.        , -14.2043    ],\n",
       "        [-11.        ,   0.        ,   0.        ],\n",
       "        [ -8.75      , -11.        ,   0.        ]]),\n",
       " array([  4,   0,   1, ..., 199,  33,  35]),\n",
       " array([   0,    4,    8, ..., 6224, 6228, 6232]),\n",
       " array([10, 10, 10, ..., 10, 10, 10], dtype=uint8))"
      ]
     },
     "execution_count": 152,
     "metadata": {},
     "output_type": "execute_result"
    }
   ],
   "source": [
    "xyz3d, cells, cell_locations, cell_types"
   ]
  },
  {
   "cell_type": "code",
   "execution_count": 153,
   "id": "ec7457af-4253-4c74-8c4d-d3cc47729efc",
   "metadata": {},
   "outputs": [
    {
     "name": "stdout",
     "output_type": "stream",
     "text": [
      "None\n"
     ]
    }
   ],
   "source": [
    "print(ptdata.GetPointData().GetArray(3))"
   ]
  },
  {
   "cell_type": "code",
   "execution_count": 154,
   "id": "6b0b4710-9196-4dff-b6e5-c188532bd0b5",
   "metadata": {},
   "outputs": [
    {
     "ename": "TypeError",
     "evalue": "arguments do not match any overloaded methods",
     "output_type": "error",
     "traceback": [
      "\u001b[0;31m---------------------------------------------------------------------------\u001b[0m",
      "\u001b[0;31mTypeError\u001b[0m                                 Traceback (most recent call last)",
      "Input \u001b[0;32mIn [154]\u001b[0m, in \u001b[0;36m<cell line: 1>\u001b[0;34m()\u001b[0m\n\u001b[0;32m----> 1\u001b[0m \u001b[38;5;28mprint\u001b[39m(vtk_to_numpy(\u001b[43mptdata\u001b[49m\u001b[38;5;241;43m.\u001b[39;49m\u001b[43mGetData\u001b[49m\u001b[43m(\u001b[49m\u001b[38;5;241;43m0\u001b[39;49m\u001b[43m)\u001b[49m))\n\u001b[1;32m      2\u001b[0m \u001b[38;5;28mprint\u001b[39m(vtk_to_numpy(ptdata\u001b[38;5;241m.\u001b[39mGetPointData()\u001b[38;5;241m.\u001b[39mGetScalars()))\n",
      "\u001b[0;31mTypeError\u001b[0m: arguments do not match any overloaded methods"
     ]
    }
   ],
   "source": [
    "print(vtk_to_numpy(ptdata.GetData(0)))\n",
    "print(vtk_to_numpy(ptdata.GetPointData().GetScalars()))"
   ]
  },
  {
   "cell_type": "code",
   "execution_count": 155,
   "id": "7fc50362-42f5-43e6-b61b-6ba04b1a8ef6",
   "metadata": {},
   "outputs": [
    {
     "data": {
      "text/plain": [
       "1"
      ]
     },
     "execution_count": 155,
     "metadata": {},
     "output_type": "execute_result"
    }
   ],
   "source": [
    "import vtk\n",
    "import csv\n",
    "\n",
    "fileIn  = 'test.vtk'\n",
    "fileOut  = 'myTable2.csv'\n",
    "\n",
    "reader = vtk.vtkGenericDataObjectReader()\n",
    "reader.SetFileName(fileIn)\n",
    "reader.Update()\n",
    "\n",
    "point_obj = reader.GetOutput()\n",
    "points = point_obj.GetPoints()\n",
    "\n",
    "table = vtk.vtkDataObjectToTable()\n",
    "table.SetInputData(point_obj)\n",
    "table.Update()\n",
    "table.GetOutput().AddColumn(points.GetData())\n",
    "table.Update()\n",
    "\n",
    "writer = vtk.vtkDelimitedTextWriter()\n",
    "writer.SetInputConnection(table.GetOutputPort())\n",
    "writer.SetFileName(fileOut)\n",
    "writer.Update()\n",
    "writer.Write()\n",
    "\n",
    "#print(point_obj)\n",
    "# https://discourse.vtk.org/t/save-polydata-to-csv-using-vtkdelimitedtextwriter/986/4"
   ]
  },
  {
   "cell_type": "code",
   "execution_count": 156,
   "id": "546a0f75-ca12-4c47-bd35-ac52e301f4a2",
   "metadata": {},
   "outputs": [
    {
     "name": "stdout",
     "output_type": "stream",
     "text": [
      "<vtk.numpy_interface.dataset_adapter.VTKNoneArray object at 0x16f3e3ac0>\n"
     ]
    }
   ],
   "source": [
    "print(array1)"
   ]
  },
  {
   "cell_type": "code",
   "execution_count": 157,
   "id": "5e00c6c9-e68b-4073-9a92-15cd3c796cea",
   "metadata": {},
   "outputs": [],
   "source": [
    "# vec1 = usg.GetPointData().GetVector('vector1')"
   ]
  },
  {
   "cell_type": "code",
   "execution_count": 158,
   "id": "e979b8d9-f967-4072-9b05-ae0ff83256c8",
   "metadata": {},
   "outputs": [],
   "source": [
    "import pyvista as pv"
   ]
  },
  {
   "cell_type": "code",
   "execution_count": 159,
   "id": "a9531167-098f-4870-b8fe-d1f62817ba9e",
   "metadata": {},
   "outputs": [
    {
     "name": "stdout",
     "output_type": "stream",
     "text": [
      "UnstructuredGrid (0x17309cfa0)\n",
      "  N Cells:\t1559\n",
      "  N Points:\t488\n",
      "  X Bounds:\t-1.100e+01, 1.100e+01\n",
      "  Y Bounds:\t-1.100e+01, 1.100e+01\n",
      "  Z Bounds:\t-1.420e+01, 0.000e+00\n",
      "  N Arrays:\t5\n",
      "\n",
      "dict_keys([])\n"
     ]
    }
   ],
   "source": [
    "data = pv.read('test.vtk')\n",
    "print(data)\n",
    "\n",
    "print(data.point_arrays.keys())"
   ]
  },
  {
   "cell_type": "code",
   "execution_count": 160,
   "id": "0e89816e-cd08-4804-8dda-a87943e9e789",
   "metadata": {},
   "outputs": [],
   "source": [
    "data[\"name of array\"]"
   ]
  },
  {
   "cell_type": "code",
   "execution_count": 161,
   "id": "9fb42f24-0e33-4a02-95c8-6b46d44d9528",
   "metadata": {},
   "outputs": [
    {
     "name": "stdout",
     "output_type": "stream",
     "text": [
      "[]\n",
      "['Resistivity(log10)', 'Resistivity/Ohmm', '_Attribute', '_Marker', 'coverage(log10)']\n",
      "[]\n"
     ]
    }
   ],
   "source": [
    "import vtk\n",
    "from vtk.numpy_interface import dataset_adapter as dsa\n",
    "\n",
    "reader = vtk.vtkUnstructuredGridReader()\n",
    "reader.SetFileName('test.vtk')\n",
    "reader.ReadAllScalarsOn()\n",
    "reader.ReadAllVectorsOn()\n",
    "reader.Update()\n",
    "\n",
    "adapter = dsa.WrapDataObject(reader.GetOutput())\n",
    "print(adapter.PointData.keys()) # ['hu', 'disp']\n",
    "print(adapter.CellData.keys())  # []\n",
    "print(adapter.FieldData.keys()) # []"
   ]
  },
  {
   "cell_type": "code",
   "execution_count": 166,
   "id": "ec47ffe1-875d-4aed-95ee-5fec01b9cb7e",
   "metadata": {},
   "outputs": [],
   "source": [
    "# # Determine the name of each field and place it in an array.\n",
    "# number_of_fields = reader.GetOutput().GetPointData().GetNumberOfArrays()\n",
    "\n",
    "# field_names = []\n",
    "# for i in range(number_of_fields):\n",
    "#     field_names.append(reader.GetOutput().GetPointData().GetArrayName(i))\n",
    "# print(field_names, number_of_fields)\n",
    "# # Determine the index of the field strain_rate\n",
    "# idx = field_names.index(\"Resistivity/Ohmm\")\n",
    "\n",
    "# # Example: Extract values of strain_rate\n",
    "# field_vtk_array = reader.GetOutput().GetPointData().GetArray(idx)\n",
    "import vtk\n",
    "from vtk.numpy_interface import dataset_adapter as dsa\n",
    "\n",
    "reader = vtk.vtkUnstructuredGridReader()\n",
    "reader.SetFileName('test.vtk')\n",
    "reader.ReadAllScalarsOn()\n",
    "reader.ReadAllVectorsOn()\n",
    "reader.Update()\n",
    "# strain_rate = numpy_support.vtk_to_numpy(field_vtk_array)"
   ]
  },
  {
   "cell_type": "code",
   "execution_count": 191,
   "id": "ee858a31-62ca-40a2-bd96-90b444c1d715",
   "metadata": {},
   "outputs": [
    {
     "name": "stdout",
     "output_type": "stream",
     "text": [
      "Resistivity(log10)\n"
     ]
    }
   ],
   "source": [
    "\n",
    "\n",
    "\n",
    "converter = vtk.vtkCellDataToPointData()\n",
    "converter.ProcessAllArraysOn()\n",
    "converter.SetInputConnection(reader.GetOutputPort())\n",
    "converter.Update()\n",
    "\n",
    "keys = adapter.CellData.keys()\n",
    "print(keys[0])\n",
    "vtk_to_numpy(converter.GetOutput().GetPointData().GetArray(keys[4]))\n",
    "arr = [vtk_to_numpy(converter.GetOutput().GetPointData().GetArray(keys[0])) for i in range(len(keys))]\n",
    "\n",
    "# print(converter.GetOutput())\n",
    "# print(arr)"
   ]
  },
  {
   "cell_type": "code",
   "execution_count": 218,
   "id": "fb98018d-4e24-4c12-aa97-af5bfd7fcfa3",
   "metadata": {},
   "outputs": [],
   "source": [
    "import vtk\n",
    "import csv\n",
    "\n",
    "fileIn  = 'test.vtk'\n",
    "fileOut  = 'myTable.csv'\n",
    "\n",
    "reader = vtk.vtkUnstructuredGridReader()\n",
    "reader.SetFileName('test.vtk')\n",
    "reader.ReadAllScalarsOn()\n",
    "reader.ReadAllVectorsOn()\n",
    "reader.Update()\n",
    "\n",
    "point_obj = reader.GetOutput()\n",
    "\n",
    "point_obj = ptdata\n",
    "converter = vtk.vtkCellDataToPointData()\n",
    "converter.ProcessAllArraysOn()\n",
    "converter.SetInputConnection(reader.GetOutputPort())\n",
    "converter.Update()\n",
    "arr = vtk_to_numpy(converter.GetOutput().GetPointData().GetArray('Resistivity/Ohmm'))\n",
    "\n",
    "# keys = adapter.CellData.keys()\n",
    "# arr = [vtk_to_numpy(converter.GetOutput().GetPointData().GetArray(keys[0])) for i in range(len(keys))]\n",
    "# nparray = np.array(arr).transpose()\n",
    "\n",
    "points = [(point_obj.GetPoint(i)[0], point_obj.GetPoint(i)[1], point_obj.GetPoint(i)[2], arr[i]) for i in range(int(point_obj.GetNumberOfPoints()))]\n",
    "with open(fileOut, 'w') as csvfileout:\n",
    "    writer = csv.writer(csvfileout)\n",
    "    writer.writerow([\"x\", \"y\", \"z\", \"Resistivity/Ohmm\"])\n",
    "    writer.writerows(points)"
   ]
  },
  {
   "cell_type": "code",
   "execution_count": 176,
   "id": "99b10ba0-731a-4656-8b2c-430e7495c987",
   "metadata": {},
   "outputs": [
    {
     "name": "stdout",
     "output_type": "stream",
     "text": [
      "(2.056098588435, -5.046854818664, -6.535842662675)\n"
     ]
    }
   ],
   "source": [
    "print(point_obj.GetPoint(0))"
   ]
  },
  {
   "cell_type": "code",
   "execution_count": 195,
   "id": "10dd982e-968e-4f8e-be2b-cff26b8f2da9",
   "metadata": {},
   "outputs": [],
   "source": [
    "nparray = np.array(arr).transpose()"
   ]
  },
  {
   "cell_type": "code",
   "execution_count": 196,
   "id": "370e97dc-bcda-4e4d-ae5a-7d55fd190655",
   "metadata": {},
   "outputs": [
    {
     "data": {
      "text/plain": [
       "(488, 5)"
      ]
     },
     "execution_count": 196,
     "metadata": {},
     "output_type": "execute_result"
    }
   ],
   "source": [
    "np.shape(nparray)"
   ]
  },
  {
   "cell_type": "code",
   "execution_count": 197,
   "id": "89ef2d91-23cb-4de7-ace1-6f46f491d5d5",
   "metadata": {},
   "outputs": [
    {
     "data": {
      "text/plain": [
       "array([[0.94196955, 0.94196955, 0.94196955, 0.94196955, 0.94196955],\n",
       "       [1.0182403 , 1.0182403 , 1.0182403 , 1.0182403 , 1.0182403 ],\n",
       "       [1.11077467, 1.11077467, 1.11077467, 1.11077467, 1.11077467],\n",
       "       ...,\n",
       "       [1.1231997 , 1.1231997 , 1.1231997 , 1.1231997 , 1.1231997 ],\n",
       "       [0.62275706, 0.62275706, 0.62275706, 0.62275706, 0.62275706],\n",
       "       [0.90278333, 0.90278333, 0.90278333, 0.90278333, 0.90278333]])"
      ]
     },
     "execution_count": 197,
     "metadata": {},
     "output_type": "execute_result"
    }
   ],
   "source": [
    "nparray"
   ]
  },
  {
   "cell_type": "code",
   "execution_count": 198,
   "id": "70f4c16f-f33e-45b0-9314-66a542eb5198",
   "metadata": {},
   "outputs": [
    {
     "data": {
      "text/plain": [
       "array([0.94196955, 0.94196955, 0.94196955, 0.94196955, 0.94196955])"
      ]
     },
     "execution_count": 198,
     "metadata": {},
     "output_type": "execute_result"
    }
   ],
   "source": [
    "nparray[0]"
   ]
  },
  {
   "cell_type": "code",
   "execution_count": 200,
   "id": "d5e27cb8-2285-4519-9025-ee5f059bd56d",
   "metadata": {},
   "outputs": [
    {
     "ename": "AttributeError",
     "evalue": "'vtkmodules.vtkFiltersCore.vtkCellDataToPointData' object has no attribute 'CellData'",
     "output_type": "error",
     "traceback": [
      "\u001b[0;31m---------------------------------------------------------------------------\u001b[0m",
      "\u001b[0;31mAttributeError\u001b[0m                            Traceback (most recent call last)",
      "Input \u001b[0;32mIn [200]\u001b[0m, in \u001b[0;36m<cell line: 1>\u001b[0;34m()\u001b[0m\n\u001b[0;32m----> 1\u001b[0m keys \u001b[38;5;241m=\u001b[39m \u001b[43mconverter\u001b[49m\u001b[38;5;241;43m.\u001b[39;49m\u001b[43mCellData\u001b[49m\u001b[38;5;241m.\u001b[39mkeys()\n",
      "\u001b[0;31mAttributeError\u001b[0m: 'vtkmodules.vtkFiltersCore.vtkCellDataToPointData' object has no attribute 'CellData'"
     ]
    }
   ],
   "source": [
    "keys = converter.CellData.keys()"
   ]
  },
  {
   "cell_type": "code",
   "execution_count": 206,
   "id": "c55197d9-5a73-4f4c-a5ef-bcfe5f9695f5",
   "metadata": {},
   "outputs": [
    {
     "data": {
      "text/html": [
       "<div>\n",
       "<style scoped>\n",
       "    .dataframe tbody tr th:only-of-type {\n",
       "        vertical-align: middle;\n",
       "    }\n",
       "\n",
       "    .dataframe tbody tr th {\n",
       "        vertical-align: top;\n",
       "    }\n",
       "\n",
       "    .dataframe thead th {\n",
       "        text-align: right;\n",
       "    }\n",
       "</style>\n",
       "<table border=\"1\" class=\"dataframe\">\n",
       "  <thead>\n",
       "    <tr style=\"text-align: right;\">\n",
       "      <th></th>\n",
       "      <th>x</th>\n",
       "      <th>y</th>\n",
       "      <th>z</th>\n",
       "      <th>Resistivity/Ohmm</th>\n",
       "    </tr>\n",
       "  </thead>\n",
       "  <tbody>\n",
       "    <tr>\n",
       "      <th>0</th>\n",
       "      <td>2.056099</td>\n",
       "      <td>-5.046855</td>\n",
       "      <td>-6.535843</td>\n",
       "      <td>9.152093</td>\n",
       "    </tr>\n",
       "    <tr>\n",
       "      <th>1</th>\n",
       "      <td>2.952496</td>\n",
       "      <td>-11.000000</td>\n",
       "      <td>-9.071617</td>\n",
       "      <td>10.561621</td>\n",
       "    </tr>\n",
       "    <tr>\n",
       "      <th>2</th>\n",
       "      <td>6.618680</td>\n",
       "      <td>-6.085967</td>\n",
       "      <td>-10.139427</td>\n",
       "      <td>12.977863</td>\n",
       "    </tr>\n",
       "    <tr>\n",
       "      <th>3</th>\n",
       "      <td>5.921467</td>\n",
       "      <td>-8.562813</td>\n",
       "      <td>-6.579852</td>\n",
       "      <td>9.178093</td>\n",
       "    </tr>\n",
       "    <tr>\n",
       "      <th>4</th>\n",
       "      <td>-6.589772</td>\n",
       "      <td>8.817694</td>\n",
       "      <td>-5.032836</td>\n",
       "      <td>8.523189</td>\n",
       "    </tr>\n",
       "    <tr>\n",
       "      <th>...</th>\n",
       "      <td>...</td>\n",
       "      <td>...</td>\n",
       "      <td>...</td>\n",
       "      <td>...</td>\n",
       "    </tr>\n",
       "    <tr>\n",
       "      <th>483</th>\n",
       "      <td>11.000000</td>\n",
       "      <td>11.000000</td>\n",
       "      <td>-8.352150</td>\n",
       "      <td>11.808890</td>\n",
       "    </tr>\n",
       "    <tr>\n",
       "      <th>484</th>\n",
       "      <td>5.500000</td>\n",
       "      <td>11.000000</td>\n",
       "      <td>-14.204300</td>\n",
       "      <td>13.721167</td>\n",
       "    </tr>\n",
       "    <tr>\n",
       "      <th>485</th>\n",
       "      <td>5.500000</td>\n",
       "      <td>-11.000000</td>\n",
       "      <td>-14.204300</td>\n",
       "      <td>13.290502</td>\n",
       "    </tr>\n",
       "    <tr>\n",
       "      <th>486</th>\n",
       "      <td>-11.000000</td>\n",
       "      <td>0.000000</td>\n",
       "      <td>0.000000</td>\n",
       "      <td>4.196800</td>\n",
       "    </tr>\n",
       "    <tr>\n",
       "      <th>487</th>\n",
       "      <td>-8.750000</td>\n",
       "      <td>-11.000000</td>\n",
       "      <td>0.000000</td>\n",
       "      <td>8.005138</td>\n",
       "    </tr>\n",
       "  </tbody>\n",
       "</table>\n",
       "<p>488 rows × 4 columns</p>\n",
       "</div>"
      ],
      "text/plain": [
       "             x          y          z  Resistivity/Ohmm\n",
       "0     2.056099  -5.046855  -6.535843          9.152093\n",
       "1     2.952496 -11.000000  -9.071617         10.561621\n",
       "2     6.618680  -6.085967 -10.139427         12.977863\n",
       "3     5.921467  -8.562813  -6.579852          9.178093\n",
       "4    -6.589772   8.817694  -5.032836          8.523189\n",
       "..         ...        ...        ...               ...\n",
       "483  11.000000  11.000000  -8.352150         11.808890\n",
       "484   5.500000  11.000000 -14.204300         13.721167\n",
       "485   5.500000 -11.000000 -14.204300         13.290502\n",
       "486 -11.000000   0.000000   0.000000          4.196800\n",
       "487  -8.750000 -11.000000   0.000000          8.005138\n",
       "\n",
       "[488 rows x 4 columns]"
      ]
     },
     "execution_count": 206,
     "metadata": {},
     "output_type": "execute_result"
    }
   ],
   "source": [
    "import pandas as pd\n",
    "df = pd.DataFrame(points)\n",
    "df.columns = [\"x\", \"y\", \"z\", \"Resistivity/Ohmm\"]\n",
    "df"
   ]
  },
  {
   "cell_type": "code",
   "execution_count": 214,
   "id": "29df0271-1481-4b7a-8ca4-afed32a79cf2",
   "metadata": {},
   "outputs": [],
   "source": [
    "# Set markers for each point. Hard Code for now, but figure out a way to do this from rho.map\n",
    "rho_map = [5, 100]\n",
    "layer = -5\n",
    "marker = []\n",
    "for i in range(len(points)):\n",
    "    if points[i][2] < layer:\n",
    "        marker.append(rho_map[1])\n",
    "    elif points[i][2]>=layer:\n",
    "        marker.append(rho_map[0])\n",
    "    else:\n",
    "        print(\"something's wrong getting markers for csv\")\n",
    "        marker.append('nan')"
   ]
  },
  {
   "cell_type": "code",
   "execution_count": 215,
   "id": "ce31517f-3496-40ef-ab19-9ea6104dff9c",
   "metadata": {},
   "outputs": [],
   "source": [
    "points = [(point_obj.GetPoint(i)[0], point_obj.GetPoint(i)[1], point_obj.GetPoint(i)[2], arr[i], marker[i]) for i in range(int(point_obj.GetNumberOfPoints()))]"
   ]
  },
  {
   "cell_type": "code",
   "execution_count": 216,
   "id": "b6cf9c33-fb9c-4d5f-bb59-78a25fac480e",
   "metadata": {},
   "outputs": [
    {
     "data": {
      "text/html": [
       "<div>\n",
       "<style scoped>\n",
       "    .dataframe tbody tr th:only-of-type {\n",
       "        vertical-align: middle;\n",
       "    }\n",
       "\n",
       "    .dataframe tbody tr th {\n",
       "        vertical-align: top;\n",
       "    }\n",
       "\n",
       "    .dataframe thead th {\n",
       "        text-align: right;\n",
       "    }\n",
       "</style>\n",
       "<table border=\"1\" class=\"dataframe\">\n",
       "  <thead>\n",
       "    <tr style=\"text-align: right;\">\n",
       "      <th></th>\n",
       "      <th>x</th>\n",
       "      <th>y</th>\n",
       "      <th>z</th>\n",
       "      <th>Resistivity/Ohmm</th>\n",
       "      <th>Marker</th>\n",
       "    </tr>\n",
       "  </thead>\n",
       "  <tbody>\n",
       "    <tr>\n",
       "      <th>0</th>\n",
       "      <td>2.056099</td>\n",
       "      <td>-5.046855</td>\n",
       "      <td>-6.535843</td>\n",
       "      <td>9.152093</td>\n",
       "      <td>100</td>\n",
       "    </tr>\n",
       "    <tr>\n",
       "      <th>1</th>\n",
       "      <td>2.952496</td>\n",
       "      <td>-11.000000</td>\n",
       "      <td>-9.071617</td>\n",
       "      <td>10.561621</td>\n",
       "      <td>100</td>\n",
       "    </tr>\n",
       "    <tr>\n",
       "      <th>2</th>\n",
       "      <td>6.618680</td>\n",
       "      <td>-6.085967</td>\n",
       "      <td>-10.139427</td>\n",
       "      <td>12.977863</td>\n",
       "      <td>100</td>\n",
       "    </tr>\n",
       "    <tr>\n",
       "      <th>3</th>\n",
       "      <td>5.921467</td>\n",
       "      <td>-8.562813</td>\n",
       "      <td>-6.579852</td>\n",
       "      <td>9.178093</td>\n",
       "      <td>100</td>\n",
       "    </tr>\n",
       "    <tr>\n",
       "      <th>4</th>\n",
       "      <td>-6.589772</td>\n",
       "      <td>8.817694</td>\n",
       "      <td>-5.032836</td>\n",
       "      <td>8.523189</td>\n",
       "      <td>100</td>\n",
       "    </tr>\n",
       "    <tr>\n",
       "      <th>...</th>\n",
       "      <td>...</td>\n",
       "      <td>...</td>\n",
       "      <td>...</td>\n",
       "      <td>...</td>\n",
       "      <td>...</td>\n",
       "    </tr>\n",
       "    <tr>\n",
       "      <th>483</th>\n",
       "      <td>11.000000</td>\n",
       "      <td>11.000000</td>\n",
       "      <td>-8.352150</td>\n",
       "      <td>11.808890</td>\n",
       "      <td>100</td>\n",
       "    </tr>\n",
       "    <tr>\n",
       "      <th>484</th>\n",
       "      <td>5.500000</td>\n",
       "      <td>11.000000</td>\n",
       "      <td>-14.204300</td>\n",
       "      <td>13.721167</td>\n",
       "      <td>100</td>\n",
       "    </tr>\n",
       "    <tr>\n",
       "      <th>485</th>\n",
       "      <td>5.500000</td>\n",
       "      <td>-11.000000</td>\n",
       "      <td>-14.204300</td>\n",
       "      <td>13.290502</td>\n",
       "      <td>100</td>\n",
       "    </tr>\n",
       "    <tr>\n",
       "      <th>486</th>\n",
       "      <td>-11.000000</td>\n",
       "      <td>0.000000</td>\n",
       "      <td>0.000000</td>\n",
       "      <td>4.196800</td>\n",
       "      <td>5</td>\n",
       "    </tr>\n",
       "    <tr>\n",
       "      <th>487</th>\n",
       "      <td>-8.750000</td>\n",
       "      <td>-11.000000</td>\n",
       "      <td>0.000000</td>\n",
       "      <td>8.005138</td>\n",
       "      <td>5</td>\n",
       "    </tr>\n",
       "  </tbody>\n",
       "</table>\n",
       "<p>488 rows × 5 columns</p>\n",
       "</div>"
      ],
      "text/plain": [
       "             x          y          z  Resistivity/Ohmm  Marker\n",
       "0     2.056099  -5.046855  -6.535843          9.152093     100\n",
       "1     2.952496 -11.000000  -9.071617         10.561621     100\n",
       "2     6.618680  -6.085967 -10.139427         12.977863     100\n",
       "3     5.921467  -8.562813  -6.579852          9.178093     100\n",
       "4    -6.589772   8.817694  -5.032836          8.523189     100\n",
       "..         ...        ...        ...               ...     ...\n",
       "483  11.000000  11.000000  -8.352150         11.808890     100\n",
       "484   5.500000  11.000000 -14.204300         13.721167     100\n",
       "485   5.500000 -11.000000 -14.204300         13.290502     100\n",
       "486 -11.000000   0.000000   0.000000          4.196800       5\n",
       "487  -8.750000 -11.000000   0.000000          8.005138       5\n",
       "\n",
       "[488 rows x 5 columns]"
      ]
     },
     "execution_count": 216,
     "metadata": {},
     "output_type": "execute_result"
    }
   ],
   "source": [
    "df = pd.DataFrame(points)\n",
    "df.columns = [\"x\", \"y\", \"z\", \"Resistivity/Ohmm\", \"Marker\"]\n",
    "df"
   ]
  },
  {
   "cell_type": "code",
   "execution_count": 221,
   "id": "e773e20e-005b-439e-a950-e65c74bb1e2f",
   "metadata": {},
   "outputs": [],
   "source": [
    "df.to_csv(\"test.csv\", index=False)"
   ]
  },
  {
   "cell_type": "code",
   "execution_count": 14,
   "id": "0e6f42db-9f73-4bed-935d-5e3c6af6f247",
   "metadata": {},
   "outputs": [],
   "source": [
    "import vtk\n",
    "import csv\n",
    "from vtk.util.numpy_support import vtk_to_numpy, numpy_to_vtk\n",
    "import numpy as np\n",
    "import pandas as pd\n",
    "# import sys\n",
    "\n",
    "\n",
    "# inFile = sys.argv[1]\n",
    "# outFile = sys.argv[2]\n",
    "\n",
    "fileIn  = 'test.vtk'\n",
    "fileOut  = 'output.csv'\n",
    "\n",
    "reader = vtk.vtkUnstructuredGridReader()\n",
    "reader.SetFileName('test.vtk')\n",
    "reader.ReadAllScalarsOn()\n",
    "reader.ReadAllVectorsOn()\n",
    "reader.Update()\n",
    "\n",
    "point_obj = reader.GetOutput()\n",
    "\n",
    "#point_obj = ptdata\n",
    "converter = vtk.vtkCellDataToPointData()\n",
    "converter.ProcessAllArraysOn()\n",
    "converter.SetInputConnection(reader.GetOutputPort())\n",
    "converter.Update()\n",
    "arr = vtk_to_numpy(converter.GetOutput().GetPointData().GetArray('Resistivity/Ohmm'))\n",
    "\n",
    "points = np.array([(point_obj.GetPoint(i)[0], point_obj.GetPoint(i)[1], point_obj.GetPoint(i)[2], arr[i]) for i in range(int(point_obj.GetNumberOfPoints()))])\n",
    "\n",
    "# Set markers for each point. Hard Code for now, but figure out a way to do this from rho.map\n",
    "rho_map = [5, 100]\n",
    "layer = -5\n",
    "marker = []\n",
    "for i in range(len(points)):\n",
    "    if points[i][2] < layer:\n",
    "        marker.append(rho_map[1])\n",
    "    elif points[i][2]>=layer:\n",
    "        marker.append(rho_map[0])\n",
    "    else:\n",
    "        print(\"something's wrong getting markers for csv\")\n",
    "        marker.append('nan')\n",
    "\n",
    "marker = np.reshape(np.array(marker), (len(marker), 1))\n",
    "markered_points = np.concatenate((points, marker), 1)\n",
    "\n",
    "df = pd.DataFrame(markered_points)\n",
    "df.columns = [\"x\", \"y\", \"z\", \"Resistivity/Ohmm\", \"Marker\"]\n",
    "\n",
    "df.to_csv(\"test.csv\", index=False)"
   ]
  },
  {
   "cell_type": "code",
   "execution_count": null,
   "id": "acbcd2d2-f1b3-4755-8c56-41ed1ab8ffde",
   "metadata": {},
   "outputs": [],
   "source": []
  }
 ],
 "metadata": {
  "kernelspec": {
   "display_name": "Python 3 (ipykernel)",
   "language": "python",
   "name": "python3"
  },
  "language_info": {
   "codemirror_mode": {
    "name": "ipython",
    "version": 3
   },
   "file_extension": ".py",
   "mimetype": "text/x-python",
   "name": "python",
   "nbconvert_exporter": "python",
   "pygments_lexer": "ipython3",
   "version": "3.9.13"
  }
 },
 "nbformat": 4,
 "nbformat_minor": 5
}
